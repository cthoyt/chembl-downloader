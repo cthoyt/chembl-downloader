{
 "cells": [
  {
   "cell_type": "code",
   "execution_count": 76,
   "id": "580fd15f-8011-49cc-aa0b-dfab662a52e5",
   "metadata": {},
   "outputs": [],
   "source": []
  },
  {
   "cell_type": "code",
   "execution_count": 65,
   "id": "ef30b2d5-9d5f-400d-9d3f-4e5e13fd0125",
   "metadata": {},
   "outputs": [
    {
     "name": "stdout",
     "output_type": "stream",
     "text": [
      "| target_chembl_id   | pref_name                                     | target_type                 |   tax_id |\n",
      "|--------------------|-----------------------------------------------|-----------------------------|----------|\n",
      "| CHEMBL4630734      | Protein cereblon/DNA damage-binding protein 1 | PROTEIN-PROTEIN INTERACTION |     9606 |\n",
      "| CHEMBL4296167      | Cereblon/Aiolos                               | PROTEIN-PROTEIN INTERACTION |     9606 |\n"
     ]
    }
   ],
   "source": [
    "sql = \"\"\"\\\n",
    "SELECT DISTINCT\n",
    "    TARGET_DICTIONARY.chembl_id as target_chembl_id,\n",
    "    TARGET_DICTIONARY.pref_name,\n",
    "    TARGET_DICTIONARY.target_type,\n",
    "    TARGET_DICTIONARY.tax_id\n",
    "FROM MOLECULE_DICTIONARY\n",
    "JOIN DRUG_INDICATION ON MOLECULE_DICTIONARY.molregno == DRUG_INDICATION.molregno\n",
    "JOIN ACTIVITIES ON MOLECULE_DICTIONARY.molregno == ACTIVITIES.molregno\n",
    "JOIN ASSAYS ON ASSAYS.assay_id == ACTIVITIES.assay_id\n",
    "JOIN TARGET_DICTIONARY ON TARGET_DICTIONARY.tid == ASSAYS.tid\n",
    "WHERE\n",
    "    ( lower(efo_term) LIKE '%crohn%' OR lower(mesh_heading) LIKE '%crohn%' )\n",
    "    AND TARGET_DICTIONARY.tax_id IS NOT NULL\n",
    "    AND target_type = 'PROTEIN-PROTEIN INTERACTION'\n",
    "GROUP BY\n",
    "    MOLECULE_DICTIONARY.chembl_id,\n",
    "    MOLECULE_DICTIONARY.pref_name,\n",
    "    MOLECULE_DICTIONARY.chebi_par_id,\n",
    "    TARGET_DICTIONARY.chembl_id,\n",
    "    TARGET_DICTIONARY.pref_name,\n",
    "    TARGET_DICTIONARY.target_type,\n",
    "    TARGET_DICTIONARY.tax_id\n",
    "HAVING\n",
    "    max(ACTIVITIES.pchembl_value) > 7\n",
    "\"\"\""
   ]
  },
  {
   "cell_type": "code",
   "execution_count": null,
   "id": "2cce7888-2148-4268-ae59-207aae6f3108",
   "metadata": {},
   "outputs": [],
   "source": [
    "sql = \"\"\"\\\n",
    "SELECT efo_id, efo_term, mesh_id, mesh_heading, max_phase_for_ind, count(*) as count\n",
    "FROM DRUG_INDICATION\n",
    "WHERE lower(efo_term) LIKE '%crohn%' OR lower(mesh_heading) LIKE '%crohn%'\n",
    "GROUP BY efo_id, efo_term, mesh_id, mesh_heading, max_phase_for_ind\n",
    "\"\"\""
   ]
  },
  {
   "cell_type": "code",
   "execution_count": 74,
   "id": "6cbfa0e8-f417-489e-94b9-22c929a7dde3",
   "metadata": {},
   "outputs": [
    {
     "name": "stdout",
     "output_type": "stream",
     "text": [
      "| target_chembl_id   | pref_name                                                            | target_type                 |   tax_id |\n",
      "|--------------------|----------------------------------------------------------------------|-----------------------------|----------|\n",
      "| CHEMBL2093861      | Menin/Histone-lysine N-methyltransferase MLL                         | PROTEIN-PROTEIN INTERACTION |     9606 |\n",
      "| CHEMBL2093862      | Runt-related transcription factor 1/Core-binding factor subunit beta | PROTEIN-PROTEIN INTERACTION |     9606 |\n",
      "| CHEMBL3885594      | Importin subunit beta-1/Snurportin-1                                 | PROTEIN-PROTEIN INTERACTION |     9606 |\n",
      "| CHEMBL4888452      | MAP2K3/Myc proto-oncogene protein                                    | PROTEIN-PROTEIN INTERACTION |     9606 |\n",
      "| CHEMBL4523655      | NEDD8/Cullin-1                                                       | PROTEIN-PROTEIN INTERACTION |     9606 |\n"
     ]
    }
   ],
   "source": [
    "sql = \"\"\"\\\n",
    "SELECT DISTINCT\n",
    "    TARGET_DICTIONARY.chembl_id as target_chembl_id,\n",
    "    TARGET_DICTIONARY.pref_name,\n",
    "    TARGET_DICTIONARY.target_type,\n",
    "    TARGET_DICTIONARY.tax_id\n",
    "FROM MOLECULE_DICTIONARY\n",
    "JOIN ACTIVITIES ON MOLECULE_DICTIONARY.molregno == ACTIVITIES.molregno\n",
    "JOIN ASSAYS ON ASSAYS.assay_id == ACTIVITIES.assay_id\n",
    "JOIN TARGET_DICTIONARY ON TARGET_DICTIONARY.tid == ASSAYS.tid\n",
    "WHERE\n",
    "    TARGET_DICTIONARY.tax_id IS NOT NULL\n",
    "    AND target_type = 'PROTEIN-PROTEIN INTERACTION'\n",
    "GROUP BY\n",
    "    MOLECULE_DICTIONARY.chembl_id,\n",
    "    MOLECULE_DICTIONARY.pref_name,\n",
    "    MOLECULE_DICTIONARY.chebi_par_id,\n",
    "    TARGET_DICTIONARY.chembl_id,\n",
    "    TARGET_DICTIONARY.pref_name,\n",
    "    TARGET_DICTIONARY.target_type,\n",
    "    TARGET_DICTIONARY.tax_id\n",
    "\"\"\""
   ]
  },
  {
   "cell_type": "code",
   "execution_count": 19,
   "id": "66356647-7ef4-4885-86bd-f5482f8bb9e9",
   "metadata": {},
   "outputs": [
    {
     "ename": "AttributeError",
     "evalue": "'str' object has no attribute 'to_markdown'",
     "output_type": "error",
     "traceback": [
      "\u001b[0;31m---------------------------------------------------------------------------\u001b[0m",
      "\u001b[0;31mAttributeError\u001b[0m                            Traceback (most recent call last)",
      "Cell \u001b[0;32mIn[19], line 1\u001b[0m\n\u001b[0;32m----> 1\u001b[0m \u001b[38;5;28mprint\u001b[39m(\u001b[43m_\u001b[49m\u001b[38;5;241;43m.\u001b[39;49m\u001b[43mto_markdown\u001b[49m(tablefmt\u001b[38;5;241m=\u001b[39m\u001b[38;5;124m\"\u001b[39m\u001b[38;5;124mgithub\u001b[39m\u001b[38;5;124m\"\u001b[39m))\n",
      "\u001b[0;31mAttributeError\u001b[0m: 'str' object has no attribute 'to_markdown'"
     ]
    }
   ],
   "source": []
  }
 ],
 "metadata": {
  "kernelspec": {
   "display_name": "Python 3 (ipykernel)",
   "language": "python",
   "name": "python3"
  },
  "language_info": {
   "codemirror_mode": {
    "name": "ipython",
    "version": 3
   },
   "file_extension": ".py",
   "mimetype": "text/x-python",
   "name": "python",
   "nbconvert_exporter": "python",
   "pygments_lexer": "ipython3",
   "version": "3.12.10"
  }
 },
 "nbformat": 4,
 "nbformat_minor": 5
}
