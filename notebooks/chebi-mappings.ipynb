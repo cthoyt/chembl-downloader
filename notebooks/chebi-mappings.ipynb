{
 "cells": [
  {
   "cell_type": "markdown",
   "id": "2e35ca4c",
   "metadata": {},
   "source": [
    "# Mapping ChEMBL to ChEBI\n",
    "\n",
    "The `MOLECULE_DICTIONARY` table in ChEMBL contains mappings to ChEBI for some, but not all chemicals. This is unsurprising, given the scope of ChEBML is larger tha ChEBI. However, there is still room for improving these mappings.\n",
    "\n",
    "This notebook identifies molecules that have no ChEBI mapping (and have a label) then generates prioritized lexical matchings usingy [`gilda`](https://github.com/indralab/gilda) for curation."
   ]
  },
  {
   "cell_type": "code",
   "execution_count": 1,
   "id": "cfa741d8",
   "metadata": {
    "scrolled": true
   },
   "outputs": [],
   "source": [
    "import sys\n",
    "import time\n",
    "\n",
    "import gilda.grounder\n",
    "import gilda.term\n",
    "import pandas as pd\n",
    "import pystow\n",
    "from biomappings.lexical import predict_lexical_mappings\n",
    "import ssslm\n",
    "from tqdm.auto import tqdm\n",
    "import curies\n",
    "from chembl_downloader import latest, queries, query"
   ]
  },
  {
   "cell_type": "code",
   "execution_count": 2,
   "id": "e4f0e8d2",
   "metadata": {},
   "outputs": [
    {
     "name": "stdout",
     "output_type": "stream",
     "text": [
      "3.12.10 (main, Apr  8 2025, 11:35:47) [Clang 17.0.0 (clang-1700.0.13.3)]\n"
     ]
    }
   ],
   "source": [
    "print(sys.version)"
   ]
  },
  {
   "cell_type": "code",
   "execution_count": 3,
   "id": "389733a3",
   "metadata": {},
   "outputs": [
    {
     "name": "stdout",
     "output_type": "stream",
     "text": [
      "Fri Jun 27 17:12:10 2025\n"
     ]
    }
   ],
   "source": [
    "print(time.asctime())"
   ]
  },
  {
   "cell_type": "code",
   "execution_count": 4,
   "id": "66f1be43",
   "metadata": {},
   "outputs": [
    {
     "name": "stdout",
     "output_type": "stream",
     "text": [
      "Using ChEMBL version 35\n"
     ]
    }
   ],
   "source": [
    "version = latest()\n",
    "print(f\"Using ChEMBL version {version}\")"
   ]
  },
  {
   "cell_type": "markdown",
   "id": "e94e7db8",
   "metadata": {},
   "source": [
    "## Making the Query\n",
    "\n",
    "The following query over the `MOLECULE_DICTIONARY` finds all ChEMBL compound identifiers and their associated preferred names but filters out ones that already have mappings to ChEBI. This allows us to focus on doing some extra curation of new mappings."
   ]
  },
  {
   "cell_type": "code",
   "execution_count": 5,
   "id": "7e289898",
   "metadata": {},
   "outputs": [
    {
     "data": {
      "text/markdown": [
       "```sql\n",
       "SELECT\n",
       "    chembl_id,\n",
       "    pref_name\n",
       "FROM MOLECULE_DICTIONARY\n",
       "WHERE\n",
       "    chebi_par_id IS NULL\n",
       "    AND pref_name IS NOT NULL\n",
       "```"
      ],
      "text/plain": [
       "<IPython.core.display.Markdown object>"
      ]
     },
     "execution_count": 5,
     "metadata": {},
     "output_type": "execute_result"
    }
   ],
   "source": [
    "queries.markdown(queries.CHEBI_UNMAPPED_SQL)"
   ]
  },
  {
   "cell_type": "markdown",
   "id": "20f9571d",
   "metadata": {},
   "source": [
    "Make the query with `chembl_downloader.query`."
   ]
  },
  {
   "cell_type": "code",
   "execution_count": 6,
   "id": "44b7b003",
   "metadata": {},
   "outputs": [
    {
     "name": "stdout",
     "output_type": "stream",
     "text": [
      "CPU times: user 2 μs, sys: 0 ns, total: 2 μs\n",
      "Wall time: 5.01 μs\n"
     ]
    }
   ],
   "source": [
    "%time\n",
    "df = query(queries.CHEBI_UNMAPPED_SQL, version=version)"
   ]
  },
  {
   "cell_type": "code",
   "execution_count": 7,
   "id": "dd945b1d",
   "metadata": {},
   "outputs": [
    {
     "data": {
      "text/html": [
       "<div>\n",
       "<style scoped>\n",
       "    .dataframe tbody tr th:only-of-type {\n",
       "        vertical-align: middle;\n",
       "    }\n",
       "\n",
       "    .dataframe tbody tr th {\n",
       "        vertical-align: top;\n",
       "    }\n",
       "\n",
       "    .dataframe thead th {\n",
       "        text-align: right;\n",
       "    }\n",
       "</style>\n",
       "<table border=\"1\" class=\"dataframe\">\n",
       "  <thead>\n",
       "    <tr style=\"text-align: right;\">\n",
       "      <th></th>\n",
       "      <th>chembl_id</th>\n",
       "      <th>pref_name</th>\n",
       "    </tr>\n",
       "  </thead>\n",
       "  <tbody>\n",
       "    <tr>\n",
       "      <th>0</th>\n",
       "      <td>CHEMBL6206</td>\n",
       "      <td>BROMOENOL LACTONE</td>\n",
       "    </tr>\n",
       "    <tr>\n",
       "      <th>1</th>\n",
       "      <td>CHEMBL446445</td>\n",
       "      <td>UCL-1530</td>\n",
       "    </tr>\n",
       "    <tr>\n",
       "      <th>2</th>\n",
       "      <td>CHEMBL216458</td>\n",
       "      <td>ALPHA-BUNGAROTOXIN</td>\n",
       "    </tr>\n",
       "    <tr>\n",
       "      <th>3</th>\n",
       "      <td>CHEMBL6346</td>\n",
       "      <td>SCR01020</td>\n",
       "    </tr>\n",
       "    <tr>\n",
       "      <th>4</th>\n",
       "      <td>CHEMBL204021</td>\n",
       "      <td>DARAPLADIB</td>\n",
       "    </tr>\n",
       "    <tr>\n",
       "      <th>...</th>\n",
       "      <td>...</td>\n",
       "      <td>...</td>\n",
       "    </tr>\n",
       "    <tr>\n",
       "      <th>40388</th>\n",
       "      <td>CHEMBL5482969</td>\n",
       "      <td>BUTIROSIN</td>\n",
       "    </tr>\n",
       "    <tr>\n",
       "      <th>40389</th>\n",
       "      <td>CHEMBL5482975</td>\n",
       "      <td>CEPHALOSPORIN</td>\n",
       "    </tr>\n",
       "    <tr>\n",
       "      <th>40390</th>\n",
       "      <td>CHEMBL5483015</td>\n",
       "      <td>ARSENIC TRIOXIDE</td>\n",
       "    </tr>\n",
       "    <tr>\n",
       "      <th>40391</th>\n",
       "      <td>CHEMBL5498461</td>\n",
       "      <td>E133</td>\n",
       "    </tr>\n",
       "    <tr>\n",
       "      <th>40392</th>\n",
       "      <td>CHEMBL5498481</td>\n",
       "      <td>LACTOSE MONOHYDRATE</td>\n",
       "    </tr>\n",
       "  </tbody>\n",
       "</table>\n",
       "<p>40393 rows × 2 columns</p>\n",
       "</div>"
      ],
      "text/plain": [
       "           chembl_id            pref_name\n",
       "0         CHEMBL6206    BROMOENOL LACTONE\n",
       "1       CHEMBL446445             UCL-1530\n",
       "2       CHEMBL216458   ALPHA-BUNGAROTOXIN\n",
       "3         CHEMBL6346             SCR01020\n",
       "4       CHEMBL204021           DARAPLADIB\n",
       "...              ...                  ...\n",
       "40388  CHEMBL5482969            BUTIROSIN\n",
       "40389  CHEMBL5482975        CEPHALOSPORIN\n",
       "40390  CHEMBL5483015     ARSENIC TRIOXIDE\n",
       "40391  CHEMBL5498461                 E133\n",
       "40392  CHEMBL5498481  LACTOSE MONOHYDRATE\n",
       "\n",
       "[40393 rows x 2 columns]"
      ]
     },
     "execution_count": 7,
     "metadata": {},
     "output_type": "execute_result"
    }
   ],
   "source": [
    "df"
   ]
  },
  {
   "cell_type": "markdown",
   "id": "8d9be11f",
   "metadata": {},
   "source": [
    "## What's Already in ChEBI\n",
    "\n",
    "ChEBI also maintains its own mappings to ChEMBL - investigate if there's anything available there that is not already available in ChEMBL before moving on to propose new mappings."
   ]
  },
  {
   "cell_type": "code",
   "execution_count": 8,
   "id": "9d196b15",
   "metadata": {},
   "outputs": [
    {
     "data": {
      "text/plain": [
       "35558"
      ]
     },
     "execution_count": 8,
     "metadata": {},
     "output_type": "execute_result"
    }
   ],
   "source": [
    "chebi_url = \"https://ftp.ebi.ac.uk/pub/databases/chebi/Flat_file_tab_delimited/reference.tsv.gz\"\n",
    "chebi_df = pystow.ensure_csv(\n",
    "    \"bio\",\n",
    "    \"chebi\",\n",
    "    url=chebi_url,\n",
    "    read_csv_kwargs={\n",
    "        \"compression\": \"gzip\",\n",
    "        \"sep\": \"\\t\",\n",
    "        \"encoding\": \"unicode_escape\",\n",
    "        \"on_bad_lines\": \"skip\",\n",
    "        \"dtype\": str,\n",
    "    },\n",
    ")\n",
    "chebi_mappings = dict(\n",
    "    chebi_df[chebi_df.REFERENCE_DB_NAME == \"ChEMBL\"][[\"REFERENCE_ID\", \"COMPOUND_ID\"]].values\n",
    ")\n",
    "len(chebi_mappings)"
   ]
  },
  {
   "cell_type": "code",
   "execution_count": 9,
   "id": "397d2fd1",
   "metadata": {},
   "outputs": [
    {
     "name": "stdout",
     "output_type": "stream",
     "text": [
      "there are 4,295/40,393 (10.63%) extra mappings from ChEBI\n"
     ]
    }
   ],
   "source": [
    "chebi_idx = df.chembl_id.isin(set(chebi_mappings))\n",
    "\n",
    "print(\n",
    "    f\"there are {chebi_idx.sum():,}/{len(df.index):,} ({chebi_idx.sum() / len(df.index):.2%}) \"\n",
    "    f\"extra mappings from ChEBI\"\n",
    ")\n",
    "\n",
    "df = df[~chebi_idx]"
   ]
  },
  {
   "cell_type": "markdown",
   "id": "2c8748be",
   "metadata": {},
   "source": [
    "## Propose New Mappings\n",
    "\n",
    "First, we index the dataframe of molecules using [`gilda`](https://github.com/indralab/gilda), which implements a scored string matching algorithm."
   ]
  },
  {
   "cell_type": "code",
   "execution_count": 10,
   "id": "d87f8e43",
   "metadata": {},
   "outputs": [
    {
     "data": {
      "application/vnd.jupyter.widget-view+json": {
       "model_id": "55b435135afd4a61b61c8457360af2fa",
       "version_major": 2,
       "version_minor": 0
      },
      "text/plain": [
       "  0%|          | 0.00/36.1k [00:00<?, ?term/s]"
      ]
     },
     "metadata": {},
     "output_type": "display_data"
    }
   ],
   "source": [
    "literal_mappings = [\n",
    "    ssslm.LiteralMapping(\n",
    "        reference=curies.NamableReference(\n",
    "            prefix=\"chembl.compound\",\n",
    "            identifier=identifier.strip(),\n",
    "            name=name,\n",
    "        ),\n",
    "        text=name,\n",
    "        source=\"chembl\",\n",
    "    )\n",
    "    for identifier, name in tqdm(df.values, unit=\"term\", unit_scale=True)\n",
    "]\n",
    "\n",
    "grounder = ssslm.make_grounder(literal_mappings)"
   ]
  },
  {
   "cell_type": "markdown",
   "id": "e29b2a0c",
   "metadata": {},
   "source": [
    "Second, we use a utility function from [`biomappings`](https://github.com/biopragmatics/biomappings) that takes in three things:\n",
    "\n",
    "1. a `prefix` corresponding to the resource we want to map against\n",
    "2. the `grounder` object generated from indexing all of the ChEMBL terms\n",
    "3. a `provenance` string\n",
    "\n",
    "\n",
    "This function in turn relies on [`pyobo`](https://github.com/pyobo/pyobo) and will download/cache the [ChEBI ontology](https://obofoundry.org/ontology/chebi), so be patient on the first run."
   ]
  },
  {
   "cell_type": "code",
   "execution_count": 11,
   "id": "737427eb",
   "metadata": {},
   "outputs": [
    {
     "data": {
      "application/vnd.jupyter.widget-view+json": {
       "model_id": "1bd99403da39445fb0af3905ee46bc48",
       "version_major": 2,
       "version_minor": 0
      },
      "text/plain": [
       "[chebi] lexical tuples:   0%|          | 0.00/203k [00:00<?, ?name/s]"
      ]
     },
     "metadata": {},
     "output_type": "display_data"
    },
    {
     "name": "stdout",
     "output_type": "stream",
     "text": [
      "[chebi] generated 4,266 predictions from names\n"
     ]
    }
   ],
   "source": [
    "prediction_tuples = list(\n",
    "    predict_lexical_mappings(\n",
    "        prefix=\"chebi\",\n",
    "        grounder=grounder,\n",
    "        provenance=\"chembl-downloader-repo\",\n",
    "    )\n",
    ")"
   ]
  },
  {
   "cell_type": "code",
   "execution_count": 12,
   "id": "b01f8e7f",
   "metadata": {},
   "outputs": [
    {
     "name": "stdout",
     "output_type": "stream",
     "text": [
      "Got 4,266 predictions\n"
     ]
    }
   ],
   "source": [
    "print(f\"Got {len(prediction_tuples):,} predictions\")"
   ]
  },
  {
   "cell_type": "markdown",
   "id": "92c25f74",
   "metadata": {},
   "source": [
    "## Results\n",
    "\n",
    "The results below show promising results, often resulting in exact string matches. Further proofing can be done on the chemical strucutre level, but these matches are typically correct without further investigation."
   ]
  },
  {
   "cell_type": "code",
   "execution_count": 13,
   "id": "b57075eb-8b2a-4430-a085-782d008131c3",
   "metadata": {},
   "outputs": [
    {
     "data": {
      "text/html": [
       "<div>\n",
       "<style scoped>\n",
       "    .dataframe tbody tr th:only-of-type {\n",
       "        vertical-align: middle;\n",
       "    }\n",
       "\n",
       "    .dataframe tbody tr th {\n",
       "        vertical-align: top;\n",
       "    }\n",
       "\n",
       "    .dataframe thead th {\n",
       "        text-align: right;\n",
       "    }\n",
       "</style>\n",
       "<table border=\"1\" class=\"dataframe\">\n",
       "  <thead>\n",
       "    <tr style=\"text-align: right;\">\n",
       "      <th></th>\n",
       "      <th>0</th>\n",
       "      <th>1</th>\n",
       "      <th>2</th>\n",
       "      <th>3</th>\n",
       "      <th>4</th>\n",
       "      <th>5</th>\n",
       "      <th>6</th>\n",
       "      <th>7</th>\n",
       "    </tr>\n",
       "  </thead>\n",
       "  <tbody>\n",
       "    <tr>\n",
       "      <th>3356</th>\n",
       "      <td>(subject, prefix='chebi' identifier='41462' na...</td>\n",
       "      <td>(predicate, prefix='skos' identifier='exactMat...</td>\n",
       "      <td>(object, prefix='chembl.compound' identifier='...</td>\n",
       "      <td>(mapping_justification, prefix='semapv' identi...</td>\n",
       "      <td>(author, None)</td>\n",
       "      <td>(mapping_tool, chembl-downloader-repo)</td>\n",
       "      <td>(predicate_modifier, None)</td>\n",
       "      <td>(confidence, 0.556)</td>\n",
       "    </tr>\n",
       "    <tr>\n",
       "      <th>2321</th>\n",
       "      <td>(subject, prefix='chebi' identifier='221846' n...</td>\n",
       "      <td>(predicate, prefix='skos' identifier='exactMat...</td>\n",
       "      <td>(object, prefix='chembl.compound' identifier='...</td>\n",
       "      <td>(mapping_justification, prefix='semapv' identi...</td>\n",
       "      <td>(author, None)</td>\n",
       "      <td>(mapping_tool, chembl-downloader-repo)</td>\n",
       "      <td>(predicate_modifier, None)</td>\n",
       "      <td>(confidence, 0.556)</td>\n",
       "    </tr>\n",
       "    <tr>\n",
       "      <th>3365</th>\n",
       "      <td>(subject, prefix='chebi' identifier='43633' na...</td>\n",
       "      <td>(predicate, prefix='skos' identifier='exactMat...</td>\n",
       "      <td>(object, prefix='chembl.compound' identifier='...</td>\n",
       "      <td>(mapping_justification, prefix='semapv' identi...</td>\n",
       "      <td>(author, None)</td>\n",
       "      <td>(mapping_tool, chembl-downloader-repo)</td>\n",
       "      <td>(predicate_modifier, None)</td>\n",
       "      <td>(confidence, 0.556)</td>\n",
       "    </tr>\n",
       "    <tr>\n",
       "      <th>3257</th>\n",
       "      <td>(subject, prefix='chebi' identifier='34827' na...</td>\n",
       "      <td>(predicate, prefix='skos' identifier='exactMat...</td>\n",
       "      <td>(object, prefix='chembl.compound' identifier='...</td>\n",
       "      <td>(mapping_justification, prefix='semapv' identi...</td>\n",
       "      <td>(author, None)</td>\n",
       "      <td>(mapping_tool, chembl-downloader-repo)</td>\n",
       "      <td>(predicate_modifier, None)</td>\n",
       "      <td>(confidence, 0.556)</td>\n",
       "    </tr>\n",
       "    <tr>\n",
       "      <th>3256</th>\n",
       "      <td>(subject, prefix='chebi' identifier='34827' na...</td>\n",
       "      <td>(predicate, prefix='skos' identifier='exactMat...</td>\n",
       "      <td>(object, prefix='chembl.compound' identifier='...</td>\n",
       "      <td>(mapping_justification, prefix='semapv' identi...</td>\n",
       "      <td>(author, None)</td>\n",
       "      <td>(mapping_tool, chembl-downloader-repo)</td>\n",
       "      <td>(predicate_modifier, None)</td>\n",
       "      <td>(confidence, 0.556)</td>\n",
       "    </tr>\n",
       "    <tr>\n",
       "      <th>...</th>\n",
       "      <td>...</td>\n",
       "      <td>...</td>\n",
       "      <td>...</td>\n",
       "      <td>...</td>\n",
       "      <td>...</td>\n",
       "      <td>...</td>\n",
       "      <td>...</td>\n",
       "      <td>...</td>\n",
       "    </tr>\n",
       "    <tr>\n",
       "      <th>1728</th>\n",
       "      <td>(subject, prefix='chebi' identifier='211166' n...</td>\n",
       "      <td>(predicate, prefix='skos' identifier='exactMat...</td>\n",
       "      <td>(object, prefix='chembl.compound' identifier='...</td>\n",
       "      <td>(mapping_justification, prefix='semapv' identi...</td>\n",
       "      <td>(author, None)</td>\n",
       "      <td>(mapping_tool, chembl-downloader-repo)</td>\n",
       "      <td>(predicate_modifier, None)</td>\n",
       "      <td>(confidence, 0.502)</td>\n",
       "    </tr>\n",
       "    <tr>\n",
       "      <th>3090</th>\n",
       "      <td>(subject, prefix='chebi' identifier='29540' na...</td>\n",
       "      <td>(predicate, prefix='skos' identifier='exactMat...</td>\n",
       "      <td>(object, prefix='chembl.compound' identifier='...</td>\n",
       "      <td>(mapping_justification, prefix='semapv' identi...</td>\n",
       "      <td>(author, None)</td>\n",
       "      <td>(mapping_tool, chembl-downloader-repo)</td>\n",
       "      <td>(predicate_modifier, None)</td>\n",
       "      <td>(confidence, 0.502)</td>\n",
       "    </tr>\n",
       "    <tr>\n",
       "      <th>3089</th>\n",
       "      <td>(subject, prefix='chebi' identifier='29534' na...</td>\n",
       "      <td>(predicate, prefix='skos' identifier='exactMat...</td>\n",
       "      <td>(object, prefix='chembl.compound' identifier='...</td>\n",
       "      <td>(mapping_justification, prefix='semapv' identi...</td>\n",
       "      <td>(author, None)</td>\n",
       "      <td>(mapping_tool, chembl-downloader-repo)</td>\n",
       "      <td>(predicate_modifier, None)</td>\n",
       "      <td>(confidence, 0.502)</td>\n",
       "    </tr>\n",
       "    <tr>\n",
       "      <th>4237</th>\n",
       "      <td>(subject, prefix='chebi' identifier='9423' nam...</td>\n",
       "      <td>(predicate, prefix='skos' identifier='exactMat...</td>\n",
       "      <td>(object, prefix='chembl.compound' identifier='...</td>\n",
       "      <td>(mapping_justification, prefix='semapv' identi...</td>\n",
       "      <td>(author, None)</td>\n",
       "      <td>(mapping_tool, chembl-downloader-repo)</td>\n",
       "      <td>(predicate_modifier, None)</td>\n",
       "      <td>(confidence, 0.502)</td>\n",
       "    </tr>\n",
       "    <tr>\n",
       "      <th>3206</th>\n",
       "      <td>(subject, prefix='chebi' identifier='32187' na...</td>\n",
       "      <td>(predicate, prefix='skos' identifier='exactMat...</td>\n",
       "      <td>(object, prefix='chembl.compound' identifier='...</td>\n",
       "      <td>(mapping_justification, prefix='semapv' identi...</td>\n",
       "      <td>(author, None)</td>\n",
       "      <td>(mapping_tool, chembl-downloader-repo)</td>\n",
       "      <td>(predicate_modifier, None)</td>\n",
       "      <td>(confidence, 0.502)</td>\n",
       "    </tr>\n",
       "  </tbody>\n",
       "</table>\n",
       "<p>4266 rows × 8 columns</p>\n",
       "</div>"
      ],
      "text/plain": [
       "                                                      0  \\\n",
       "3356  (subject, prefix='chebi' identifier='41462' na...   \n",
       "2321  (subject, prefix='chebi' identifier='221846' n...   \n",
       "3365  (subject, prefix='chebi' identifier='43633' na...   \n",
       "3257  (subject, prefix='chebi' identifier='34827' na...   \n",
       "3256  (subject, prefix='chebi' identifier='34827' na...   \n",
       "...                                                 ...   \n",
       "1728  (subject, prefix='chebi' identifier='211166' n...   \n",
       "3090  (subject, prefix='chebi' identifier='29540' na...   \n",
       "3089  (subject, prefix='chebi' identifier='29534' na...   \n",
       "4237  (subject, prefix='chebi' identifier='9423' nam...   \n",
       "3206  (subject, prefix='chebi' identifier='32187' na...   \n",
       "\n",
       "                                                      1  \\\n",
       "3356  (predicate, prefix='skos' identifier='exactMat...   \n",
       "2321  (predicate, prefix='skos' identifier='exactMat...   \n",
       "3365  (predicate, prefix='skos' identifier='exactMat...   \n",
       "3257  (predicate, prefix='skos' identifier='exactMat...   \n",
       "3256  (predicate, prefix='skos' identifier='exactMat...   \n",
       "...                                                 ...   \n",
       "1728  (predicate, prefix='skos' identifier='exactMat...   \n",
       "3090  (predicate, prefix='skos' identifier='exactMat...   \n",
       "3089  (predicate, prefix='skos' identifier='exactMat...   \n",
       "4237  (predicate, prefix='skos' identifier='exactMat...   \n",
       "3206  (predicate, prefix='skos' identifier='exactMat...   \n",
       "\n",
       "                                                      2  \\\n",
       "3356  (object, prefix='chembl.compound' identifier='...   \n",
       "2321  (object, prefix='chembl.compound' identifier='...   \n",
       "3365  (object, prefix='chembl.compound' identifier='...   \n",
       "3257  (object, prefix='chembl.compound' identifier='...   \n",
       "3256  (object, prefix='chembl.compound' identifier='...   \n",
       "...                                                 ...   \n",
       "1728  (object, prefix='chembl.compound' identifier='...   \n",
       "3090  (object, prefix='chembl.compound' identifier='...   \n",
       "3089  (object, prefix='chembl.compound' identifier='...   \n",
       "4237  (object, prefix='chembl.compound' identifier='...   \n",
       "3206  (object, prefix='chembl.compound' identifier='...   \n",
       "\n",
       "                                                      3               4  \\\n",
       "3356  (mapping_justification, prefix='semapv' identi...  (author, None)   \n",
       "2321  (mapping_justification, prefix='semapv' identi...  (author, None)   \n",
       "3365  (mapping_justification, prefix='semapv' identi...  (author, None)   \n",
       "3257  (mapping_justification, prefix='semapv' identi...  (author, None)   \n",
       "3256  (mapping_justification, prefix='semapv' identi...  (author, None)   \n",
       "...                                                 ...             ...   \n",
       "1728  (mapping_justification, prefix='semapv' identi...  (author, None)   \n",
       "3090  (mapping_justification, prefix='semapv' identi...  (author, None)   \n",
       "3089  (mapping_justification, prefix='semapv' identi...  (author, None)   \n",
       "4237  (mapping_justification, prefix='semapv' identi...  (author, None)   \n",
       "3206  (mapping_justification, prefix='semapv' identi...  (author, None)   \n",
       "\n",
       "                                           5                           6  \\\n",
       "3356  (mapping_tool, chembl-downloader-repo)  (predicate_modifier, None)   \n",
       "2321  (mapping_tool, chembl-downloader-repo)  (predicate_modifier, None)   \n",
       "3365  (mapping_tool, chembl-downloader-repo)  (predicate_modifier, None)   \n",
       "3257  (mapping_tool, chembl-downloader-repo)  (predicate_modifier, None)   \n",
       "3256  (mapping_tool, chembl-downloader-repo)  (predicate_modifier, None)   \n",
       "...                                      ...                         ...   \n",
       "1728  (mapping_tool, chembl-downloader-repo)  (predicate_modifier, None)   \n",
       "3090  (mapping_tool, chembl-downloader-repo)  (predicate_modifier, None)   \n",
       "3089  (mapping_tool, chembl-downloader-repo)  (predicate_modifier, None)   \n",
       "4237  (mapping_tool, chembl-downloader-repo)  (predicate_modifier, None)   \n",
       "3206  (mapping_tool, chembl-downloader-repo)  (predicate_modifier, None)   \n",
       "\n",
       "                        7  \n",
       "3356  (confidence, 0.556)  \n",
       "2321  (confidence, 0.556)  \n",
       "3365  (confidence, 0.556)  \n",
       "3257  (confidence, 0.556)  \n",
       "3256  (confidence, 0.556)  \n",
       "...                   ...  \n",
       "1728  (confidence, 0.502)  \n",
       "3090  (confidence, 0.502)  \n",
       "3089  (confidence, 0.502)  \n",
       "4237  (confidence, 0.502)  \n",
       "3206  (confidence, 0.502)  \n",
       "\n",
       "[4266 rows x 8 columns]"
      ]
     },
     "execution_count": 13,
     "metadata": {},
     "output_type": "execute_result"
    }
   ],
   "source": [
    "predictions_df = pd.DataFrame(prediction_tuples)\n",
    "predictions_df.sort_values(7, ascending=False)"
   ]
  }
 ],
 "metadata": {
  "kernelspec": {
   "display_name": "Python 3 (ipykernel)",
   "language": "python",
   "name": "python3"
  },
  "language_info": {
   "codemirror_mode": {
    "name": "ipython",
    "version": 3
   },
   "file_extension": ".py",
   "mimetype": "text/x-python",
   "name": "python",
   "nbconvert_exporter": "python",
   "pygments_lexer": "ipython3",
   "version": "3.12.10"
  }
 },
 "nbformat": 4,
 "nbformat_minor": 5
}
