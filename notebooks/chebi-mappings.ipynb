{
 "cells": [
  {
   "cell_type": "markdown",
   "id": "2e35ca4c",
   "metadata": {},
   "source": [
    "# Mapping ChEMBL to ChEBI\n",
    "\n",
    "The `MOLECULE_DICTIONARY` table in ChEMBL contains mappings to ChEBI for some, but not all chemicals. This is unsurprising, given the scope of ChEBML is larger tha ChEBI. However, there is still room for improving these mappings.\n",
    "\n",
    "This notebook identifies molecules that have no ChEBI mapping (and have a label) then generates prioritized lexical matchings usingy [`gilda`](https://github.com/indralab/gilda) for curation."
   ]
  },
  {
   "cell_type": "code",
   "execution_count": 9,
   "id": "cfa741d8",
   "metadata": {
    "scrolled": true
   },
   "outputs": [],
   "source": [
    "import sys\n",
    "import time\n",
    "\n",
    "import gilda.grounder\n",
    "import gilda.term\n",
    "import pandas as pd\n",
    "import pystow\n",
    "from biomappings.gilda_utils import iter_prediction_tuples\n",
    "from gilda.process import normalize\n",
    "from tqdm.auto import tqdm\n",
    "from IPython.display import Markdown\n",
    "\n",
    "from chembl_downloader import queries, query, latest"
   ]
  },
  {
   "cell_type": "code",
   "execution_count": 2,
   "id": "e4f0e8d2",
   "metadata": {},
   "outputs": [
    {
     "name": "stdout",
     "output_type": "stream",
     "text": [
      "3.10.8 (main, Oct 13 2022, 10:17:43) [Clang 14.0.0 (clang-1400.0.29.102)]\n"
     ]
    }
   ],
   "source": [
    "print(sys.version)"
   ]
  },
  {
   "cell_type": "code",
   "execution_count": 3,
   "id": "389733a3",
   "metadata": {},
   "outputs": [
    {
     "name": "stdout",
     "output_type": "stream",
     "text": [
      "Thu Nov  3 12:53:35 2022\n"
     ]
    }
   ],
   "source": [
    "print(time.asctime())"
   ]
  },
  {
   "cell_type": "code",
   "execution_count": 4,
   "id": "66f1be43",
   "metadata": {},
   "outputs": [
    {
     "name": "stdout",
     "output_type": "stream",
     "text": [
      "Using ChEMBL version 31\n"
     ]
    }
   ],
   "source": [
    "version = latest()\n",
    "print(f\"Using ChEMBL version {version}\")"
   ]
  },
  {
   "cell_type": "markdown",
   "id": "e94e7db8",
   "metadata": {},
   "source": [
    "## Making the Query\n",
    "\n",
    "The following query over the `MOLECULE_DICTIONARY` finds all ChEMBL compound identifiers and their associated preferred names but filters out ones that already have mappings to ChEBI. This allows us to focus on doing some extra curation of new mappings."
   ]
  },
  {
   "cell_type": "code",
   "execution_count": 5,
   "id": "7e289898",
   "metadata": {},
   "outputs": [
    {
     "data": {
      "text/markdown": [
       "```sql\n",
       "SELECT\n",
       "    chembl_id,\n",
       "    pref_name\n",
       "FROM MOLECULE_DICTIONARY\n",
       "WHERE\n",
       "    chebi_par_id IS NULL\n",
       "    AND pref_name IS NOT NULL\n",
       "```"
      ],
      "text/plain": [
       "<IPython.core.display.Markdown object>"
      ]
     },
     "execution_count": 5,
     "metadata": {},
     "output_type": "execute_result"
    }
   ],
   "source": [
    "queries.markdown(queries.CHEBI_UNMAPPED_SQL)"
   ]
  },
  {
   "cell_type": "markdown",
   "id": "20f9571d",
   "metadata": {},
   "source": [
    "Make the query with `chembl_downloader.query`."
   ]
  },
  {
   "cell_type": "code",
   "execution_count": 6,
   "id": "44b7b003",
   "metadata": {},
   "outputs": [
    {
     "name": "stdout",
     "output_type": "stream",
     "text": [
      "CPU times: user 3 µs, sys: 1e+03 ns, total: 4 µs\n",
      "Wall time: 6.91 µs\n"
     ]
    }
   ],
   "source": [
    "%time\n",
    "df = query(queries.CHEBI_UNMAPPED_SQL, version=version)"
   ]
  },
  {
   "cell_type": "code",
   "execution_count": 7,
   "id": "dd945b1d",
   "metadata": {},
   "outputs": [
    {
     "data": {
      "text/html": [
       "<div>\n",
       "<style scoped>\n",
       "    .dataframe tbody tr th:only-of-type {\n",
       "        vertical-align: middle;\n",
       "    }\n",
       "\n",
       "    .dataframe tbody tr th {\n",
       "        vertical-align: top;\n",
       "    }\n",
       "\n",
       "    .dataframe thead th {\n",
       "        text-align: right;\n",
       "    }\n",
       "</style>\n",
       "<table border=\"1\" class=\"dataframe\">\n",
       "  <thead>\n",
       "    <tr style=\"text-align: right;\">\n",
       "      <th></th>\n",
       "      <th>chembl_id</th>\n",
       "      <th>pref_name</th>\n",
       "    </tr>\n",
       "  </thead>\n",
       "  <tbody>\n",
       "    <tr>\n",
       "      <th>0</th>\n",
       "      <td>CHEMBL6206</td>\n",
       "      <td>BROMOENOL LACTONE</td>\n",
       "    </tr>\n",
       "    <tr>\n",
       "      <th>1</th>\n",
       "      <td>CHEMBL446445</td>\n",
       "      <td>UCL-1530</td>\n",
       "    </tr>\n",
       "    <tr>\n",
       "      <th>2</th>\n",
       "      <td>CHEMBL266459</td>\n",
       "      <td>ZOMEPIRAC SODIUM</td>\n",
       "    </tr>\n",
       "    <tr>\n",
       "      <th>3</th>\n",
       "      <td>CHEMBL216458</td>\n",
       "      <td>ALPHA-BUNGAROTOXIN</td>\n",
       "    </tr>\n",
       "    <tr>\n",
       "      <th>4</th>\n",
       "      <td>CHEMBL6346</td>\n",
       "      <td>SCR01020</td>\n",
       "    </tr>\n",
       "    <tr>\n",
       "      <th>...</th>\n",
       "      <td>...</td>\n",
       "      <td>...</td>\n",
       "    </tr>\n",
       "    <tr>\n",
       "      <th>39225</th>\n",
       "      <td>CHEMBL4802269</td>\n",
       "      <td>IZURALIMAB</td>\n",
       "    </tr>\n",
       "    <tr>\n",
       "      <th>39226</th>\n",
       "      <td>CHEMBL4802270</td>\n",
       "      <td>PUDEXACIANINIUM</td>\n",
       "    </tr>\n",
       "    <tr>\n",
       "      <th>39227</th>\n",
       "      <td>CHEMBL4804171</td>\n",
       "      <td>AFP-464 FREE SALT</td>\n",
       "    </tr>\n",
       "    <tr>\n",
       "      <th>39228</th>\n",
       "      <td>CHEMBL4804172</td>\n",
       "      <td>SAMARIUM DOTMP</td>\n",
       "    </tr>\n",
       "    <tr>\n",
       "      <th>39229</th>\n",
       "      <td>CHEMBL4804173</td>\n",
       "      <td>FLORQUINITAU</td>\n",
       "    </tr>\n",
       "  </tbody>\n",
       "</table>\n",
       "<p>39230 rows × 2 columns</p>\n",
       "</div>"
      ],
      "text/plain": [
       "           chembl_id           pref_name\n",
       "0         CHEMBL6206   BROMOENOL LACTONE\n",
       "1       CHEMBL446445            UCL-1530\n",
       "2       CHEMBL266459    ZOMEPIRAC SODIUM\n",
       "3       CHEMBL216458  ALPHA-BUNGAROTOXIN\n",
       "4         CHEMBL6346            SCR01020\n",
       "...              ...                 ...\n",
       "39225  CHEMBL4802269          IZURALIMAB\n",
       "39226  CHEMBL4802270     PUDEXACIANINIUM\n",
       "39227  CHEMBL4804171   AFP-464 FREE SALT\n",
       "39228  CHEMBL4804172      SAMARIUM DOTMP\n",
       "39229  CHEMBL4804173        FLORQUINITAU\n",
       "\n",
       "[39230 rows x 2 columns]"
      ]
     },
     "execution_count": 7,
     "metadata": {},
     "output_type": "execute_result"
    }
   ],
   "source": [
    "df"
   ]
  },
  {
   "cell_type": "markdown",
   "id": "4d1304a8",
   "metadata": {},
   "source": [
    "## What's Already in ChEBI\n",
    "\n",
    "ChEBI also maintains its own mappings to ChEMBL - investigate if there's anything available there that is not already available in ChEMBL before moving on to propose new mappings."
   ]
  },
  {
   "cell_type": "code",
   "execution_count": 8,
   "id": "a0dfc359",
   "metadata": {},
   "outputs": [
    {
     "ename": "NameError",
     "evalue": "name 'pystow' is not defined",
     "output_type": "error",
     "traceback": [
      "\u001b[0;31m---------------------------------------------------------------------------\u001b[0m",
      "\u001b[0;31mNameError\u001b[0m                                 Traceback (most recent call last)",
      "Cell \u001b[0;32mIn [8], line 2\u001b[0m\n\u001b[1;32m      1\u001b[0m chebi_url \u001b[38;5;241m=\u001b[39m \u001b[38;5;124m\"\u001b[39m\u001b[38;5;124mhttps://ftp.ebi.ac.uk/pub/databases/chebi/Flat_file_tab_delimited/reference.tsv.gz\u001b[39m\u001b[38;5;124m\"\u001b[39m\n\u001b[0;32m----> 2\u001b[0m chebi_df \u001b[38;5;241m=\u001b[39m \u001b[43mpystow\u001b[49m\u001b[38;5;241m.\u001b[39mensure_df(\u001b[38;5;124m\"\u001b[39m\u001b[38;5;124mbio\u001b[39m\u001b[38;5;124m\"\u001b[39m, \u001b[38;5;124m\"\u001b[39m\u001b[38;5;124mchebi\u001b[39m\u001b[38;5;124m\"\u001b[39m, url\u001b[38;5;241m=\u001b[39mchebi_url)\n",
      "\u001b[0;31mNameError\u001b[0m: name 'pystow' is not defined"
     ]
    }
   ],
   "source": [
    "chebi_url = \"https://ftp.ebi.ac.uk/pub/databases/chebi/Flat_file_tab_delimited/reference.tsv.gz\"\n",
    "chebi_df = pystow.ensure_df(\"bio\", \"chebi\", url=chebi_url)\n",
    "\n",
    "# TODO slice to only have chembl sources then remove unnecessary columns\n",
    "\n",
    "#: keys are chembl IDs, values are chebi IDs\n",
    "chebi_mappings = ..."
   ]
  },
  {
   "cell_type": "code",
   "execution_count": null,
   "id": "5cc8e295",
   "metadata": {},
   "outputs": [],
   "source": [
    "chebi_idx = df.chembl_id.isin(set(chebi_mappings))\n",
    "\n",
    "print(\n",
    "    f\"there are {chebi_idx.sum():,}/{len(df.index):,} ({chebi_idx.sum()/len(df.index):.2%}) \"\n",
    "    \" extra mappings from ChEBI\"\n",
    ")\n",
    "\n",
    "df = df[~chebi_idx]"
   ]
  },
  {
   "cell_type": "markdown",
   "id": "2c8748be",
   "metadata": {},
   "source": [
    "## Propose New Mappings\n",
    "\n",
    "First, we index the dataframe of molecules using [`gilda`](https://github.com/indralab/gilda), which implements a scored string matching algorithm."
   ]
  },
  {
   "cell_type": "code",
   "execution_count": null,
   "id": "d87f8e43",
   "metadata": {},
   "outputs": [],
   "source": [
    "terms = [\n",
    "    gilda.term.Term(\n",
    "        norm_text=normalize(name),\n",
    "        text=name,\n",
    "        db=\"chembl.compound\",\n",
    "        id=identifier,\n",
    "        entry_name=name,\n",
    "        status=\"name\",\n",
    "        source=\"chembl\",\n",
    "    )\n",
    "    for identifier, name in tqdm(df.values, unit=\"term\", unit_scale=True)\n",
    "]\n",
    "\n",
    "grounder = gilda.grounder.Grounder(terms)"
   ]
  },
  {
   "cell_type": "markdown",
   "id": "e29b2a0c",
   "metadata": {},
   "source": [
    "Second, we use a utility function from [`biomappings`](https://github.com/biopragmatics/biomappings) that takes in three things:\n",
    "\n",
    "1. a `prefix` corresponding to the resource we want to map against\n",
    "2. the `grounder` object generated from indexing all of the ChEMBL terms\n",
    "3. a `provenance` string\n",
    "\n",
    "\n",
    "This function in turn relies on [`pyobo`](https://github.com/pyobo/pyobo) and will download/cache the [ChEBI ontology](https://obofoundry.org/ontology/chebi), so be patient on the first run."
   ]
  },
  {
   "cell_type": "code",
   "execution_count": null,
   "id": "737427eb",
   "metadata": {},
   "outputs": [],
   "source": [
    "prediction_tuples = list(\n",
    "    iter_prediction_tuples(\n",
    "        prefix=\"chebi\",\n",
    "        grounder=grounder,\n",
    "        provenance=\"notebook\",\n",
    "    )\n",
    ")"
   ]
  },
  {
   "cell_type": "code",
   "execution_count": null,
   "id": "b01f8e7f",
   "metadata": {},
   "outputs": [],
   "source": [
    "print(f\"Got {len(prediction_tuples):,} predictions\")"
   ]
  },
  {
   "cell_type": "markdown",
   "id": "92c25f74",
   "metadata": {},
   "source": [
    "## Results\n",
    "\n",
    "The results below show promising results, often resulting in exact string matches. Further proofing can be done on the chemical strucutre level, but these matches are typically correct without further investigation."
   ]
  },
  {
   "cell_type": "code",
   "execution_count": null,
   "id": "2dd1fc6a",
   "metadata": {},
   "outputs": [],
   "source": [
    "predictions_df = pd.DataFrame(prediction_tuples).sort_values(\"confidence\", ascending=False)\n",
    "predictions_df"
   ]
  }
 ],
 "metadata": {
  "kernelspec": {
   "display_name": "Python 3 (ipykernel)",
   "language": "python",
   "name": "python3"
  },
  "language_info": {
   "codemirror_mode": {
    "name": "ipython",
    "version": 3
   },
   "file_extension": ".py",
   "mimetype": "text/x-python",
   "name": "python",
   "nbconvert_exporter": "python",
   "pygments_lexer": "ipython3",
   "version": "3.10.8"
  }
 },
 "nbformat": 4,
 "nbformat_minor": 5
}
