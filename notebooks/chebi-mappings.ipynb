{
 "cells": [
  {
   "cell_type": "markdown",
   "id": "2e35ca4c",
   "metadata": {},
   "source": [
    "# Mapping ChEMBL to ChEBI\n",
    "\n",
    "The `MOLECULE_DICTIONARY` table in ChEMBL contains mappings to ChEBI for some, but not all chemicals. This is unsurprising, given the scope of ChEBML is larger tha ChEBI. However, there is still room for improving these mappings.\n",
    "\n",
    "This notebook identifies molecules that have no ChEBI mapping (and have a label) then generates prioritized lexical matchings usingy [`gilda`](https://github.com/indralab/gilda) for curation."
   ]
  },
  {
   "cell_type": "code",
   "execution_count": 1,
   "id": "cfa741d8",
   "metadata": {
    "scrolled": true
   },
   "outputs": [],
   "source": [
    "import sys\n",
    "import time\n",
    "\n",
    "import gilda.grounder\n",
    "import gilda.term\n",
    "import pandas as pd\n",
    "import pystow\n",
    "from biomappings.gilda_utils import iter_prediction_tuples\n",
    "from gilda.process import normalize\n",
    "from IPython.display import Markdown\n",
    "from tqdm.auto import tqdm\n",
    "\n",
    "from chembl_downloader import latest, queries, query"
   ]
  },
  {
   "cell_type": "code",
   "execution_count": 2,
   "id": "e4f0e8d2",
   "metadata": {},
   "outputs": [
    {
     "name": "stdout",
     "output_type": "stream",
     "text": [
      "3.10.8 (main, Oct 13 2022, 10:17:43) [Clang 14.0.0 (clang-1400.0.29.102)]\n"
     ]
    }
   ],
   "source": [
    "print(sys.version)"
   ]
  },
  {
   "cell_type": "code",
   "execution_count": 3,
   "id": "389733a3",
   "metadata": {},
   "outputs": [
    {
     "name": "stdout",
     "output_type": "stream",
     "text": [
      "Thu Nov  3 13:32:50 2022\n"
     ]
    }
   ],
   "source": [
    "print(time.asctime())"
   ]
  },
  {
   "cell_type": "code",
   "execution_count": 4,
   "id": "66f1be43",
   "metadata": {},
   "outputs": [
    {
     "name": "stdout",
     "output_type": "stream",
     "text": [
      "Using ChEMBL version 31\n"
     ]
    }
   ],
   "source": [
    "version = latest()\n",
    "print(f\"Using ChEMBL version {version}\")"
   ]
  },
  {
   "cell_type": "markdown",
   "id": "e94e7db8",
   "metadata": {},
   "source": [
    "## Making the Query\n",
    "\n",
    "The following query over the `MOLECULE_DICTIONARY` finds all ChEMBL compound identifiers and their associated preferred names but filters out ones that already have mappings to ChEBI. This allows us to focus on doing some extra curation of new mappings."
   ]
  },
  {
   "cell_type": "code",
   "execution_count": 5,
   "id": "7e289898",
   "metadata": {},
   "outputs": [
    {
     "data": {
      "text/markdown": [
       "```sql\n",
       "SELECT\n",
       "    chembl_id,\n",
       "    pref_name\n",
       "FROM MOLECULE_DICTIONARY\n",
       "WHERE\n",
       "    chebi_par_id IS NULL\n",
       "    AND pref_name IS NOT NULL\n",
       "```"
      ],
      "text/plain": [
       "<IPython.core.display.Markdown object>"
      ]
     },
     "execution_count": 5,
     "metadata": {},
     "output_type": "execute_result"
    }
   ],
   "source": [
    "queries.markdown(queries.CHEBI_UNMAPPED_SQL)"
   ]
  },
  {
   "cell_type": "markdown",
   "id": "20f9571d",
   "metadata": {},
   "source": [
    "Make the query with `chembl_downloader.query`."
   ]
  },
  {
   "cell_type": "code",
   "execution_count": 6,
   "id": "44b7b003",
   "metadata": {},
   "outputs": [
    {
     "name": "stdout",
     "output_type": "stream",
     "text": [
      "CPU times: user 2 µs, sys: 1e+03 ns, total: 3 µs\n",
      "Wall time: 5.96 µs\n"
     ]
    }
   ],
   "source": [
    "%time\n",
    "df = query(queries.CHEBI_UNMAPPED_SQL, version=version)"
   ]
  },
  {
   "cell_type": "code",
   "execution_count": 7,
   "id": "dd945b1d",
   "metadata": {},
   "outputs": [
    {
     "data": {
      "text/html": [
       "<div>\n",
       "<style scoped>\n",
       "    .dataframe tbody tr th:only-of-type {\n",
       "        vertical-align: middle;\n",
       "    }\n",
       "\n",
       "    .dataframe tbody tr th {\n",
       "        vertical-align: top;\n",
       "    }\n",
       "\n",
       "    .dataframe thead th {\n",
       "        text-align: right;\n",
       "    }\n",
       "</style>\n",
       "<table border=\"1\" class=\"dataframe\">\n",
       "  <thead>\n",
       "    <tr style=\"text-align: right;\">\n",
       "      <th></th>\n",
       "      <th>chembl_id</th>\n",
       "      <th>pref_name</th>\n",
       "    </tr>\n",
       "  </thead>\n",
       "  <tbody>\n",
       "    <tr>\n",
       "      <th>0</th>\n",
       "      <td>CHEMBL6206</td>\n",
       "      <td>BROMOENOL LACTONE</td>\n",
       "    </tr>\n",
       "    <tr>\n",
       "      <th>1</th>\n",
       "      <td>CHEMBL446445</td>\n",
       "      <td>UCL-1530</td>\n",
       "    </tr>\n",
       "    <tr>\n",
       "      <th>2</th>\n",
       "      <td>CHEMBL266459</td>\n",
       "      <td>ZOMEPIRAC SODIUM</td>\n",
       "    </tr>\n",
       "    <tr>\n",
       "      <th>3</th>\n",
       "      <td>CHEMBL216458</td>\n",
       "      <td>ALPHA-BUNGAROTOXIN</td>\n",
       "    </tr>\n",
       "    <tr>\n",
       "      <th>4</th>\n",
       "      <td>CHEMBL6346</td>\n",
       "      <td>SCR01020</td>\n",
       "    </tr>\n",
       "    <tr>\n",
       "      <th>...</th>\n",
       "      <td>...</td>\n",
       "      <td>...</td>\n",
       "    </tr>\n",
       "    <tr>\n",
       "      <th>39225</th>\n",
       "      <td>CHEMBL4802269</td>\n",
       "      <td>IZURALIMAB</td>\n",
       "    </tr>\n",
       "    <tr>\n",
       "      <th>39226</th>\n",
       "      <td>CHEMBL4802270</td>\n",
       "      <td>PUDEXACIANINIUM</td>\n",
       "    </tr>\n",
       "    <tr>\n",
       "      <th>39227</th>\n",
       "      <td>CHEMBL4804171</td>\n",
       "      <td>AFP-464 FREE SALT</td>\n",
       "    </tr>\n",
       "    <tr>\n",
       "      <th>39228</th>\n",
       "      <td>CHEMBL4804172</td>\n",
       "      <td>SAMARIUM DOTMP</td>\n",
       "    </tr>\n",
       "    <tr>\n",
       "      <th>39229</th>\n",
       "      <td>CHEMBL4804173</td>\n",
       "      <td>FLORQUINITAU</td>\n",
       "    </tr>\n",
       "  </tbody>\n",
       "</table>\n",
       "<p>39230 rows × 2 columns</p>\n",
       "</div>"
      ],
      "text/plain": [
       "           chembl_id           pref_name\n",
       "0         CHEMBL6206   BROMOENOL LACTONE\n",
       "1       CHEMBL446445            UCL-1530\n",
       "2       CHEMBL266459    ZOMEPIRAC SODIUM\n",
       "3       CHEMBL216458  ALPHA-BUNGAROTOXIN\n",
       "4         CHEMBL6346            SCR01020\n",
       "...              ...                 ...\n",
       "39225  CHEMBL4802269          IZURALIMAB\n",
       "39226  CHEMBL4802270     PUDEXACIANINIUM\n",
       "39227  CHEMBL4804171   AFP-464 FREE SALT\n",
       "39228  CHEMBL4804172      SAMARIUM DOTMP\n",
       "39229  CHEMBL4804173        FLORQUINITAU\n",
       "\n",
       "[39230 rows x 2 columns]"
      ]
     },
     "execution_count": 7,
     "metadata": {},
     "output_type": "execute_result"
    }
   ],
   "source": [
    "df"
   ]
  },
  {
   "cell_type": "markdown",
   "id": "8d9be11f",
   "metadata": {},
   "source": [
    "## What's Already in ChEBI\n",
    "\n",
    "ChEBI also maintains its own mappings to ChEMBL - investigate if there's anything available there that is not already available in ChEMBL before moving on to propose new mappings."
   ]
  },
  {
   "cell_type": "code",
   "execution_count": 8,
   "id": "9d196b15",
   "metadata": {},
   "outputs": [
    {
     "name": "stderr",
     "output_type": "stream",
     "text": [
      "/Users/cthoyt/.virtualenvs/cheminf310/lib/python3.10/site-packages/pystow/impl.py:599: DtypeWarning: Columns (1,3,4) have mixed types. Specify dtype option on import or set low_memory=False.\n",
      "  return pd.read_csv(path, **_clean_csv_kwargs(read_csv_kwargs))\n"
     ]
    },
    {
     "data": {
      "text/plain": [
       "34312"
      ]
     },
     "execution_count": 8,
     "metadata": {},
     "output_type": "execute_result"
    }
   ],
   "source": [
    "chebi_url = \"https://ftp.ebi.ac.uk/pub/databases/chebi/Flat_file_tab_delimited/reference.tsv.gz\"\n",
    "chebi_df = pystow.ensure_csv(\n",
    "    \"bio\",\n",
    "    \"chebi\",\n",
    "    url=chebi_url,\n",
    "    read_csv_kwargs=dict(\n",
    "        compression=\"gzip\",\n",
    "        sep=\"\\t\",\n",
    "        encoding=\"unicode_escape\",\n",
    "        on_bad_lines=\"skip\",\n",
    "    ),\n",
    ")\n",
    "chebi_mappings = dict(\n",
    "    chebi_df[chebi_df.REFERENCE_DB_NAME == \"ChEMBL\"][[\"REFERENCE_ID\", \"COMPOUND_ID\"]].values\n",
    ")\n",
    "len(chebi_mappings)"
   ]
  },
  {
   "cell_type": "code",
   "execution_count": 9,
   "id": "397d2fd1",
   "metadata": {},
   "outputs": [
    {
     "name": "stdout",
     "output_type": "stream",
     "text": [
      "there are 4,041/39,230 (10.30%)  extra mappings from ChEBI\n"
     ]
    }
   ],
   "source": [
    "chebi_idx = df.chembl_id.isin(set(chebi_mappings))\n",
    "\n",
    "print(\n",
    "    f\"there are {chebi_idx.sum():,}/{len(df.index):,} ({chebi_idx.sum()/len(df.index):.2%}) \"\n",
    "    f\"extra mappings from ChEBI\"\n",
    ")\n",
    "\n",
    "df = df[~chebi_idx]"
   ]
  },
  {
   "cell_type": "markdown",
   "id": "2c8748be",
   "metadata": {},
   "source": [
    "## Propose New Mappings\n",
    "\n",
    "First, we index the dataframe of molecules using [`gilda`](https://github.com/indralab/gilda), which implements a scored string matching algorithm."
   ]
  },
  {
   "cell_type": "code",
   "execution_count": 10,
   "id": "d87f8e43",
   "metadata": {},
   "outputs": [
    {
     "data": {
      "application/vnd.jupyter.widget-view+json": {
       "model_id": "8c05aef5cbe44501938ec88d5fe86ffb",
       "version_major": 2,
       "version_minor": 0
      },
      "text/plain": [
       "  0%|          | 0.00/35.2k [00:00<?, ?term/s]"
      ]
     },
     "metadata": {},
     "output_type": "display_data"
    }
   ],
   "source": [
    "terms = [\n",
    "    gilda.term.Term(\n",
    "        norm_text=normalize(name),\n",
    "        text=name,\n",
    "        db=\"chembl.compound\",\n",
    "        id=identifier,\n",
    "        entry_name=name,\n",
    "        status=\"name\",\n",
    "        source=\"chembl\",\n",
    "    )\n",
    "    for identifier, name in tqdm(df.values, unit=\"term\", unit_scale=True)\n",
    "]\n",
    "\n",
    "grounder = gilda.grounder.Grounder(terms)"
   ]
  },
  {
   "cell_type": "markdown",
   "id": "e29b2a0c",
   "metadata": {},
   "source": [
    "Second, we use a utility function from [`biomappings`](https://github.com/biopragmatics/biomappings) that takes in three things:\n",
    "\n",
    "1. a `prefix` corresponding to the resource we want to map against\n",
    "2. the `grounder` object generated from indexing all of the ChEMBL terms\n",
    "3. a `provenance` string\n",
    "\n",
    "\n",
    "This function in turn relies on [`pyobo`](https://github.com/pyobo/pyobo) and will download/cache the [ChEBI ontology](https://obofoundry.org/ontology/chebi), so be patient on the first run."
   ]
  },
  {
   "cell_type": "code",
   "execution_count": 11,
   "id": "737427eb",
   "metadata": {},
   "outputs": [
    {
     "name": "stderr",
     "output_type": "stream",
     "text": [
      "WARNING: [2022-11-03 13:33:06] bioversions.sources.ols - [ypo] Missing information in OLS\n"
     ]
    },
    {
     "data": {
      "application/vnd.jupyter.widget-view+json": {
       "model_id": "2feac003a15d478cbce97a95923aa6ee",
       "version_major": 2,
       "version_minor": 0
      },
      "text/plain": [
       "[chebi] gilda tuples:   0%|          | 0.00/163k [00:00<?, ?name/s]"
      ]
     },
     "metadata": {},
     "output_type": "display_data"
    }
   ],
   "source": [
    "prediction_tuples = list(\n",
    "    iter_prediction_tuples(\n",
    "        prefix=\"chebi\",\n",
    "        grounder=grounder,\n",
    "        provenance=\"notebook\",\n",
    "    )\n",
    ")"
   ]
  },
  {
   "cell_type": "code",
   "execution_count": 12,
   "id": "b01f8e7f",
   "metadata": {},
   "outputs": [
    {
     "name": "stdout",
     "output_type": "stream",
     "text": [
      "Got 1,921 predictions\n"
     ]
    }
   ],
   "source": [
    "print(f\"Got {len(prediction_tuples):,} predictions\")"
   ]
  },
  {
   "cell_type": "markdown",
   "id": "92c25f74",
   "metadata": {},
   "source": [
    "## Results\n",
    "\n",
    "The results below show promising results, often resulting in exact string matches. Further proofing can be done on the chemical strucutre level, but these matches are typically correct without further investigation."
   ]
  },
  {
   "cell_type": "code",
   "execution_count": 13,
   "id": "2dd1fc6a",
   "metadata": {},
   "outputs": [
    {
     "data": {
      "text/html": [
       "<div>\n",
       "<style scoped>\n",
       "    .dataframe tbody tr th:only-of-type {\n",
       "        vertical-align: middle;\n",
       "    }\n",
       "\n",
       "    .dataframe tbody tr th {\n",
       "        vertical-align: top;\n",
       "    }\n",
       "\n",
       "    .dataframe thead th {\n",
       "        text-align: right;\n",
       "    }\n",
       "</style>\n",
       "<table border=\"1\" class=\"dataframe\">\n",
       "  <thead>\n",
       "    <tr style=\"text-align: right;\">\n",
       "      <th></th>\n",
       "      <th>source_prefix</th>\n",
       "      <th>source_id</th>\n",
       "      <th>source_name</th>\n",
       "      <th>relation</th>\n",
       "      <th>target_prefix</th>\n",
       "      <th>target_identifier</th>\n",
       "      <th>target_name</th>\n",
       "      <th>type</th>\n",
       "      <th>confidence</th>\n",
       "      <th>source</th>\n",
       "    </tr>\n",
       "  </thead>\n",
       "  <tbody>\n",
       "    <tr>\n",
       "      <th>497</th>\n",
       "      <td>chebi</td>\n",
       "      <td>CHEBI:190867</td>\n",
       "      <td>1-AMINOCYCLOBUTANE CARBOXYLIC ACID</td>\n",
       "      <td>skos:exactMatch</td>\n",
       "      <td>chembl.compound</td>\n",
       "      <td>CHEMBL131244</td>\n",
       "      <td>1-AMINOCYCLOBUTANE CARBOXYLIC ACID</td>\n",
       "      <td>lexical</td>\n",
       "      <td>0.777778</td>\n",
       "      <td>notebook</td>\n",
       "    </tr>\n",
       "    <tr>\n",
       "      <th>904</th>\n",
       "      <td>chebi</td>\n",
       "      <td>CHEBI:34827</td>\n",
       "      <td>M2</td>\n",
       "      <td>skos:exactMatch</td>\n",
       "      <td>chembl.compound</td>\n",
       "      <td>CHEMBL4525134</td>\n",
       "      <td>M2</td>\n",
       "      <td>lexical</td>\n",
       "      <td>0.777778</td>\n",
       "      <td>notebook</td>\n",
       "    </tr>\n",
       "    <tr>\n",
       "      <th>927</th>\n",
       "      <td>chebi</td>\n",
       "      <td>CHEBI:35811</td>\n",
       "      <td>2-endo-hydroxy-1,8-cineole</td>\n",
       "      <td>skos:exactMatch</td>\n",
       "      <td>chembl.compound</td>\n",
       "      <td>CHEMBL2229602</td>\n",
       "      <td>2-endo-hydroxy-1,8-cineole</td>\n",
       "      <td>lexical</td>\n",
       "      <td>0.777778</td>\n",
       "      <td>notebook</td>\n",
       "    </tr>\n",
       "    <tr>\n",
       "      <th>443</th>\n",
       "      <td>chebi</td>\n",
       "      <td>CHEBI:188062</td>\n",
       "      <td>XYLOCARPUS A</td>\n",
       "      <td>skos:exactMatch</td>\n",
       "      <td>chembl.compound</td>\n",
       "      <td>CHEMBL3039346</td>\n",
       "      <td>XYLOCARPUS A</td>\n",
       "      <td>lexical</td>\n",
       "      <td>0.777778</td>\n",
       "      <td>notebook</td>\n",
       "    </tr>\n",
       "    <tr>\n",
       "      <th>574</th>\n",
       "      <td>chebi</td>\n",
       "      <td>CHEBI:192723</td>\n",
       "      <td>L-NIO</td>\n",
       "      <td>skos:exactMatch</td>\n",
       "      <td>chembl.compound</td>\n",
       "      <td>CHEMBL11471</td>\n",
       "      <td>L-NIO</td>\n",
       "      <td>lexical</td>\n",
       "      <td>0.777778</td>\n",
       "      <td>notebook</td>\n",
       "    </tr>\n",
       "    <tr>\n",
       "      <th>...</th>\n",
       "      <td>...</td>\n",
       "      <td>...</td>\n",
       "      <td>...</td>\n",
       "      <td>...</td>\n",
       "      <td>...</td>\n",
       "      <td>...</td>\n",
       "      <td>...</td>\n",
       "      <td>...</td>\n",
       "      <td>...</td>\n",
       "      <td>...</td>\n",
       "    </tr>\n",
       "    <tr>\n",
       "      <th>852</th>\n",
       "      <td>chebi</td>\n",
       "      <td>CHEBI:32187</td>\n",
       "      <td>Technetium Tc 99m succimer</td>\n",
       "      <td>skos:exactMatch</td>\n",
       "      <td>chembl.compound</td>\n",
       "      <td>CHEMBL1200797</td>\n",
       "      <td>TECHNETIUM TC 99M SUCCIMER</td>\n",
       "      <td>lexical</td>\n",
       "      <td>0.723974</td>\n",
       "      <td>notebook</td>\n",
       "    </tr>\n",
       "    <tr>\n",
       "      <th>1182</th>\n",
       "      <td>chebi</td>\n",
       "      <td>CHEBI:5938</td>\n",
       "      <td>Interferon beta-1b</td>\n",
       "      <td>skos:exactMatch</td>\n",
       "      <td>chembl.compound</td>\n",
       "      <td>CHEMBL1201563</td>\n",
       "      <td>INTERFERON BETA-1B</td>\n",
       "      <td>lexical</td>\n",
       "      <td>0.723974</td>\n",
       "      <td>notebook</td>\n",
       "    </tr>\n",
       "    <tr>\n",
       "      <th>1183</th>\n",
       "      <td>chebi</td>\n",
       "      <td>CHEBI:5939</td>\n",
       "      <td>Interferon gamma-1b</td>\n",
       "      <td>skos:exactMatch</td>\n",
       "      <td>chembl.compound</td>\n",
       "      <td>CHEMBL1201564</td>\n",
       "      <td>INTERFERON GAMMA-1B</td>\n",
       "      <td>lexical</td>\n",
       "      <td>0.723974</td>\n",
       "      <td>notebook</td>\n",
       "    </tr>\n",
       "    <tr>\n",
       "      <th>1892</th>\n",
       "      <td>chebi</td>\n",
       "      <td>CHEBI:9423</td>\n",
       "      <td>Technetium tc 99m sestamibi</td>\n",
       "      <td>skos:exactMatch</td>\n",
       "      <td>chembl.compound</td>\n",
       "      <td>CHEMBL4594241</td>\n",
       "      <td>TECHNETIUM TC 99M SESTAMIBI</td>\n",
       "      <td>lexical</td>\n",
       "      <td>0.723974</td>\n",
       "      <td>notebook</td>\n",
       "    </tr>\n",
       "    <tr>\n",
       "      <th>1181</th>\n",
       "      <td>chebi</td>\n",
       "      <td>CHEBI:5937</td>\n",
       "      <td>Interferon alfa-2a</td>\n",
       "      <td>skos:exactMatch</td>\n",
       "      <td>chembl.compound</td>\n",
       "      <td>CHEMBL2108508</td>\n",
       "      <td>INTERFERON ALFA-2A</td>\n",
       "      <td>lexical</td>\n",
       "      <td>0.723974</td>\n",
       "      <td>notebook</td>\n",
       "    </tr>\n",
       "  </tbody>\n",
       "</table>\n",
       "<p>1921 rows × 10 columns</p>\n",
       "</div>"
      ],
      "text/plain": [
       "     source_prefix     source_id                         source_name  \\\n",
       "497          chebi  CHEBI:190867  1-AMINOCYCLOBUTANE CARBOXYLIC ACID   \n",
       "904          chebi   CHEBI:34827                                  M2   \n",
       "927          chebi   CHEBI:35811          2-endo-hydroxy-1,8-cineole   \n",
       "443          chebi  CHEBI:188062                        XYLOCARPUS A   \n",
       "574          chebi  CHEBI:192723                               L-NIO   \n",
       "...            ...           ...                                 ...   \n",
       "852          chebi   CHEBI:32187          Technetium Tc 99m succimer   \n",
       "1182         chebi    CHEBI:5938                  Interferon beta-1b   \n",
       "1183         chebi    CHEBI:5939                 Interferon gamma-1b   \n",
       "1892         chebi    CHEBI:9423         Technetium tc 99m sestamibi   \n",
       "1181         chebi    CHEBI:5937                  Interferon alfa-2a   \n",
       "\n",
       "             relation    target_prefix target_identifier  \\\n",
       "497   skos:exactMatch  chembl.compound      CHEMBL131244   \n",
       "904   skos:exactMatch  chembl.compound     CHEMBL4525134   \n",
       "927   skos:exactMatch  chembl.compound     CHEMBL2229602   \n",
       "443   skos:exactMatch  chembl.compound     CHEMBL3039346   \n",
       "574   skos:exactMatch  chembl.compound       CHEMBL11471   \n",
       "...               ...              ...               ...   \n",
       "852   skos:exactMatch  chembl.compound     CHEMBL1200797   \n",
       "1182  skos:exactMatch  chembl.compound     CHEMBL1201563   \n",
       "1183  skos:exactMatch  chembl.compound     CHEMBL1201564   \n",
       "1892  skos:exactMatch  chembl.compound     CHEMBL4594241   \n",
       "1181  skos:exactMatch  chembl.compound     CHEMBL2108508   \n",
       "\n",
       "                             target_name     type  confidence    source  \n",
       "497   1-AMINOCYCLOBUTANE CARBOXYLIC ACID  lexical    0.777778  notebook  \n",
       "904                                   M2  lexical    0.777778  notebook  \n",
       "927           2-endo-hydroxy-1,8-cineole  lexical    0.777778  notebook  \n",
       "443                         XYLOCARPUS A  lexical    0.777778  notebook  \n",
       "574                                L-NIO  lexical    0.777778  notebook  \n",
       "...                                  ...      ...         ...       ...  \n",
       "852           TECHNETIUM TC 99M SUCCIMER  lexical    0.723974  notebook  \n",
       "1182                  INTERFERON BETA-1B  lexical    0.723974  notebook  \n",
       "1183                 INTERFERON GAMMA-1B  lexical    0.723974  notebook  \n",
       "1892         TECHNETIUM TC 99M SESTAMIBI  lexical    0.723974  notebook  \n",
       "1181                  INTERFERON ALFA-2A  lexical    0.723974  notebook  \n",
       "\n",
       "[1921 rows x 10 columns]"
      ]
     },
     "execution_count": 13,
     "metadata": {},
     "output_type": "execute_result"
    }
   ],
   "source": [
    "predictions_df = pd.DataFrame(prediction_tuples).sort_values(\"confidence\", ascending=False)\n",
    "predictions_df"
   ]
  }
 ],
 "metadata": {
  "kernelspec": {
   "display_name": "Python 3 (ipykernel)",
   "language": "python",
   "name": "python3"
  },
  "language_info": {
   "codemirror_mode": {
    "name": "ipython",
    "version": 3
   },
   "file_extension": ".py",
   "mimetype": "text/x-python",
   "name": "python",
   "nbconvert_exporter": "python",
   "pygments_lexer": "ipython3",
   "version": "3.10.8"
  }
 },
 "nbformat": 4,
 "nbformat_minor": 5
}
