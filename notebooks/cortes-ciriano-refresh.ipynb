{
 "cells": [
  {
   "cell_type": "code",
   "execution_count": 25,
   "id": "1d14fba6",
   "metadata": {},
   "outputs": [],
   "source": [
    "import sys\n",
    "import time\n",
    "import chembl_downloader\n",
    "from chembl_downloader.contrib import get_target_smi_df\n",
    "import pandas as pd\n",
    "from tqdm.auto import tqdm\n",
    "import pystow\n",
    "from rdkit import Chem\n",
    "import zipfile"
   ]
  },
  {
   "cell_type": "code",
   "execution_count": 26,
   "id": "ace3edc0",
   "metadata": {},
   "outputs": [
    {
     "name": "stdout",
     "output_type": "stream",
     "text": [
      "3.10.8 (main, Oct 13 2022, 10:17:43) [Clang 14.0.0 (clang-1400.0.29.102)]\n"
     ]
    }
   ],
   "source": [
    "print(sys.version)"
   ]
  },
  {
   "cell_type": "code",
   "execution_count": 27,
   "id": "2d7a2f09",
   "metadata": {},
   "outputs": [
    {
     "name": "stdout",
     "output_type": "stream",
     "text": [
      "Sun Oct 30 21:05:33 2022\n"
     ]
    }
   ],
   "source": [
    "print(time.asctime())"
   ]
  },
  {
   "cell_type": "markdown",
   "id": "44eaec04",
   "metadata": {},
   "source": [
    "Table 1 from Cortés-Ciriano and Bender's [*Deep Confidence: A Computationally Efficient Framework for Calculating Reliable Prediction Errors for Deep Neural Networks*](https://pubs.acs.org/doi/10.1021/acs.jcim.8b00542)\n",
    "\n",
    "![](\"cortes-cirano-table-1.png\")"
   ]
  },
  {
   "cell_type": "code",
   "execution_count": 16,
   "id": "2d3b3eb4",
   "metadata": {},
   "outputs": [],
   "source": [
    "mappings = [\n",
    "    (\"A2a\", \"CHEMBL1867\", 203),\n",
    "    (\"ABL1\", \"CHEMBL1862\", 773),\n",
    "    (\"Acetylcholinesterase\", \"CHEMBL220\", 3159),\n",
    "    (\"Aurora-A\", \"CHEMBL4722\", 2125),\n",
    "    (\"B-raf\", \"CHEMBL5145\", 1730),\n",
    "    (\"Cannabinoid\", \"CHEMBL218\", 1116),\n",
    "    (\"Carbonic\", \"CHEMBL205\", 603),\n",
    "    (\"Caspase\", \"CHEMBL2334\", 1606),\n",
    "    (\"Coagulation\", \"CHEMBL204\", 1700),\n",
    "    (\"COX-1\", \"CHEMBL221\", 1343),\n",
    "    (\"COX-2\", \"CHEMBL230\", 2855),\n",
    "    (\"Dihydrofolate\", \"CHEMBL202\", 584),\n",
    "    (\"Dopamine\", \"CHEMBL217\", 479),\n",
    "    (\"Ephrin\", \"CHEMBL222\", 1740),\n",
    "    (\"erbB1\", \"CHEMBL203\", 4868),\n",
    "    (\"Estrogen\", \"CHEMBL206\", 1705),\n",
    "    (\"Glucocorticoid\", \"CHEMBL2034\", 1447),\n",
    "    (\"Glycogen\", \"CHEMBL262\", 1757),\n",
    "    (\"HERG\", \"CHEMBL240\", 5207),\n",
    "    (\"JAK2\", \"CHEMBL2971\", 2655),\n",
    "    (\"LCK\", \"CHEMBL258\", 1352),\n",
    "    (\"Monoamine\", \"CHEMBL1951\", 1379),\n",
    "    (\"opioid\", \"CHEMBL233\", 840),\n",
    "    (\"Vanilloid\", \"CHEMBL4794\", 1923),\n",
    "]"
   ]
  },
  {
   "cell_type": "markdown",
   "id": "1b708868",
   "metadata": {},
   "source": [
    "## Load Old Data"
   ]
  },
  {
   "cell_type": "code",
   "execution_count": 6,
   "id": "b01be7f8",
   "metadata": {},
   "outputs": [],
   "source": [
    "url = \"https://pubs.acs.org/doi/suppl/10.1021/acs.jcim.8b00542/suppl_file/ci8b00542_si_001.zip\"\n",
    "# path = pystow.ensure(\"cheminf\", url=url)\n",
    "path = \"../data/ci8b00542_si_001.zip\""
   ]
  },
  {
   "cell_type": "code",
   "execution_count": 24,
   "id": "b037b7bd",
   "metadata": {},
   "outputs": [
    {
     "data": {
      "application/vnd.jupyter.widget-view+json": {
       "model_id": "831f0d780a334d9b8bedef1779c25601",
       "version_major": 2,
       "version_minor": 0
      },
      "text/plain": [
       "  0%|          | 0/24 [00:00<?, ?file/s]"
      ]
     },
     "metadata": {},
     "output_type": "display_data"
    },
    {
     "data": {
      "application/vnd.jupyter.widget-view+json": {
       "model_id": "",
       "version_major": 2,
       "version_minor": 0
      },
      "text/plain": [
       "CHEMBL1867: 0.00molecule [00:00, ?molecule/s]"
      ]
     },
     "metadata": {},
     "output_type": "display_data"
    },
    {
     "data": {
      "application/vnd.jupyter.widget-view+json": {
       "model_id": "",
       "version_major": 2,
       "version_minor": 0
      },
      "text/plain": [
       "CHEMBL1862: 0.00molecule [00:00, ?molecule/s]"
      ]
     },
     "metadata": {},
     "output_type": "display_data"
    },
    {
     "data": {
      "application/vnd.jupyter.widget-view+json": {
       "model_id": "",
       "version_major": 2,
       "version_minor": 0
      },
      "text/plain": [
       "CHEMBL220: 0.00molecule [00:00, ?molecule/s]"
      ]
     },
     "metadata": {},
     "output_type": "display_data"
    },
    {
     "data": {
      "application/vnd.jupyter.widget-view+json": {
       "model_id": "",
       "version_major": 2,
       "version_minor": 0
      },
      "text/plain": [
       "CHEMBL4722: 0.00molecule [00:00, ?molecule/s]"
      ]
     },
     "metadata": {},
     "output_type": "display_data"
    },
    {
     "data": {
      "application/vnd.jupyter.widget-view+json": {
       "model_id": "",
       "version_major": 2,
       "version_minor": 0
      },
      "text/plain": [
       "CHEMBL5145: 0.00molecule [00:00, ?molecule/s]"
      ]
     },
     "metadata": {},
     "output_type": "display_data"
    },
    {
     "data": {
      "application/vnd.jupyter.widget-view+json": {
       "model_id": "",
       "version_major": 2,
       "version_minor": 0
      },
      "text/plain": [
       "CHEMBL218: 0.00molecule [00:00, ?molecule/s]"
      ]
     },
     "metadata": {},
     "output_type": "display_data"
    },
    {
     "data": {
      "application/vnd.jupyter.widget-view+json": {
       "model_id": "",
       "version_major": 2,
       "version_minor": 0
      },
      "text/plain": [
       "CHEMBL205: 0.00molecule [00:00, ?molecule/s]"
      ]
     },
     "metadata": {},
     "output_type": "display_data"
    },
    {
     "data": {
      "application/vnd.jupyter.widget-view+json": {
       "model_id": "",
       "version_major": 2,
       "version_minor": 0
      },
      "text/plain": [
       "CHEMBL2334: 0.00molecule [00:00, ?molecule/s]"
      ]
     },
     "metadata": {},
     "output_type": "display_data"
    },
    {
     "data": {
      "application/vnd.jupyter.widget-view+json": {
       "model_id": "",
       "version_major": 2,
       "version_minor": 0
      },
      "text/plain": [
       "CHEMBL204: 0.00molecule [00:00, ?molecule/s]"
      ]
     },
     "metadata": {},
     "output_type": "display_data"
    },
    {
     "data": {
      "application/vnd.jupyter.widget-view+json": {
       "model_id": "",
       "version_major": 2,
       "version_minor": 0
      },
      "text/plain": [
       "CHEMBL221: 0.00molecule [00:00, ?molecule/s]"
      ]
     },
     "metadata": {},
     "output_type": "display_data"
    },
    {
     "data": {
      "application/vnd.jupyter.widget-view+json": {
       "model_id": "",
       "version_major": 2,
       "version_minor": 0
      },
      "text/plain": [
       "CHEMBL230: 0.00molecule [00:00, ?molecule/s]"
      ]
     },
     "metadata": {},
     "output_type": "display_data"
    },
    {
     "data": {
      "application/vnd.jupyter.widget-view+json": {
       "model_id": "",
       "version_major": 2,
       "version_minor": 0
      },
      "text/plain": [
       "CHEMBL202: 0.00molecule [00:00, ?molecule/s]"
      ]
     },
     "metadata": {},
     "output_type": "display_data"
    },
    {
     "data": {
      "application/vnd.jupyter.widget-view+json": {
       "model_id": "",
       "version_major": 2,
       "version_minor": 0
      },
      "text/plain": [
       "CHEMBL217: 0.00molecule [00:00, ?molecule/s]"
      ]
     },
     "metadata": {},
     "output_type": "display_data"
    },
    {
     "data": {
      "application/vnd.jupyter.widget-view+json": {
       "model_id": "",
       "version_major": 2,
       "version_minor": 0
      },
      "text/plain": [
       "CHEMBL222: 0.00molecule [00:00, ?molecule/s]"
      ]
     },
     "metadata": {},
     "output_type": "display_data"
    },
    {
     "data": {
      "application/vnd.jupyter.widget-view+json": {
       "model_id": "",
       "version_major": 2,
       "version_minor": 0
      },
      "text/plain": [
       "CHEMBL203: 0.00molecule [00:00, ?molecule/s]"
      ]
     },
     "metadata": {},
     "output_type": "display_data"
    },
    {
     "data": {
      "application/vnd.jupyter.widget-view+json": {
       "model_id": "",
       "version_major": 2,
       "version_minor": 0
      },
      "text/plain": [
       "CHEMBL206: 0.00molecule [00:00, ?molecule/s]"
      ]
     },
     "metadata": {},
     "output_type": "display_data"
    },
    {
     "data": {
      "application/vnd.jupyter.widget-view+json": {
       "model_id": "",
       "version_major": 2,
       "version_minor": 0
      },
      "text/plain": [
       "CHEMBL2034: 0.00molecule [00:00, ?molecule/s]"
      ]
     },
     "metadata": {},
     "output_type": "display_data"
    },
    {
     "data": {
      "application/vnd.jupyter.widget-view+json": {
       "model_id": "",
       "version_major": 2,
       "version_minor": 0
      },
      "text/plain": [
       "CHEMBL262: 0.00molecule [00:00, ?molecule/s]"
      ]
     },
     "metadata": {},
     "output_type": "display_data"
    },
    {
     "data": {
      "application/vnd.jupyter.widget-view+json": {
       "model_id": "",
       "version_major": 2,
       "version_minor": 0
      },
      "text/plain": [
       "CHEMBL240: 0.00molecule [00:00, ?molecule/s]"
      ]
     },
     "metadata": {},
     "output_type": "display_data"
    },
    {
     "data": {
      "application/vnd.jupyter.widget-view+json": {
       "model_id": "",
       "version_major": 2,
       "version_minor": 0
      },
      "text/plain": [
       "CHEMBL2971: 0.00molecule [00:00, ?molecule/s]"
      ]
     },
     "metadata": {},
     "output_type": "display_data"
    },
    {
     "data": {
      "application/vnd.jupyter.widget-view+json": {
       "model_id": "",
       "version_major": 2,
       "version_minor": 0
      },
      "text/plain": [
       "CHEMBL258: 0.00molecule [00:00, ?molecule/s]"
      ]
     },
     "metadata": {},
     "output_type": "display_data"
    },
    {
     "data": {
      "application/vnd.jupyter.widget-view+json": {
       "model_id": "",
       "version_major": 2,
       "version_minor": 0
      },
      "text/plain": [
       "CHEMBL1951: 0.00molecule [00:00, ?molecule/s]"
      ]
     },
     "metadata": {},
     "output_type": "display_data"
    },
    {
     "data": {
      "application/vnd.jupyter.widget-view+json": {
       "model_id": "",
       "version_major": 2,
       "version_minor": 0
      },
      "text/plain": [
       "CHEMBL233: 0.00molecule [00:00, ?molecule/s]"
      ]
     },
     "metadata": {},
     "output_type": "display_data"
    },
    {
     "data": {
      "application/vnd.jupyter.widget-view+json": {
       "model_id": "",
       "version_major": 2,
       "version_minor": 0
      },
      "text/plain": [
       "CHEMBL4794: 0.00molecule [00:00, ?molecule/s]"
      ]
     },
     "metadata": {},
     "output_type": "display_data"
    }
   ],
   "source": [
    "old_dfs = {}\n",
    "with zipfile.ZipFile(path) as zip_file:\n",
    "    for stem, target_chembl_id, _ in tqdm(mappings, unit=\"file\"):\n",
    "        with zip_file.open(f\"Datasets/{stem}.sdf\") as file:\n",
    "            rows = [\n",
    "                (\n",
    "                    Chem.MolToSmiles(molecule),\n",
    "                    molecule.GetProp(\"ChEMBL_ID\"),\n",
    "                    molecule.GetProp(\"pIC50\"),\n",
    "                )\n",
    "                for molecule in tqdm(\n",
    "                    Chem.ForwardSDMolSupplier(file),\n",
    "                    desc=f\"{target_chembl_id}\",\n",
    "                    leave=False,\n",
    "                    unit=\"molecule\",\n",
    "                    unit_scale=True,\n",
    "                )\n",
    "            ]\n",
    "        old_df = old_dfs[target_chembl_id] = pd.DataFrame(\n",
    "            rows,\n",
    "            columns=[\n",
    "                \"smiles\",\n",
    "                \"chembl_id\",\n",
    "                \"pchembl\",\n",
    "            ],\n",
    "        )"
   ]
  },
  {
   "cell_type": "markdown",
   "id": "70678ff3",
   "metadata": {},
   "source": [
    "## Refresh Data"
   ]
  },
  {
   "cell_type": "code",
   "execution_count": 4,
   "id": "d4ca9e39",
   "metadata": {},
   "outputs": [
    {
     "data": {
      "application/vnd.jupyter.widget-view+json": {
       "model_id": "ba164d87aa044a5cb06091b94fe1d514",
       "version_major": 2,
       "version_minor": 0
      },
      "text/plain": [
       "  0%|          | 0/24 [00:00<?, ?it/s]"
      ]
     },
     "metadata": {},
     "output_type": "display_data"
    },
    {
     "data": {
      "text/html": [
       "<div>\n",
       "<style scoped>\n",
       "    .dataframe tbody tr th:only-of-type {\n",
       "        vertical-align: middle;\n",
       "    }\n",
       "\n",
       "    .dataframe tbody tr th {\n",
       "        vertical-align: top;\n",
       "    }\n",
       "\n",
       "    .dataframe thead th {\n",
       "        text-align: right;\n",
       "    }\n",
       "</style>\n",
       "<table border=\"1\" class=\"dataframe\">\n",
       "  <thead>\n",
       "    <tr style=\"text-align: right;\">\n",
       "      <th></th>\n",
       "      <th>abbrevation</th>\n",
       "      <th>target_chembl_id</th>\n",
       "      <th>old_count</th>\n",
       "      <th>new_count</th>\n",
       "      <th>delta</th>\n",
       "    </tr>\n",
       "  </thead>\n",
       "  <tbody>\n",
       "    <tr>\n",
       "      <th>0</th>\n",
       "      <td>A2a</td>\n",
       "      <td>CHEMBL1867</td>\n",
       "      <td>203</td>\n",
       "      <td>917</td>\n",
       "      <td>714</td>\n",
       "    </tr>\n",
       "    <tr>\n",
       "      <th>1</th>\n",
       "      <td>ABL1</td>\n",
       "      <td>CHEMBL1862</td>\n",
       "      <td>773</td>\n",
       "      <td>2425</td>\n",
       "      <td>1652</td>\n",
       "    </tr>\n",
       "    <tr>\n",
       "      <th>2</th>\n",
       "      <td>Acetylcholinestease</td>\n",
       "      <td>CHEMBL220</td>\n",
       "      <td>3159</td>\n",
       "      <td>5067</td>\n",
       "      <td>1908</td>\n",
       "    </tr>\n",
       "    <tr>\n",
       "      <th>3</th>\n",
       "      <td>Aurora-A</td>\n",
       "      <td>CHEMBL4722</td>\n",
       "      <td>2125</td>\n",
       "      <td>3202</td>\n",
       "      <td>1077</td>\n",
       "    </tr>\n",
       "    <tr>\n",
       "      <th>4</th>\n",
       "      <td>B-raf</td>\n",
       "      <td>CHEMBL5145</td>\n",
       "      <td>1730</td>\n",
       "      <td>4039</td>\n",
       "      <td>2309</td>\n",
       "    </tr>\n",
       "    <tr>\n",
       "      <th>5</th>\n",
       "      <td>Cannabinoid</td>\n",
       "      <td>CHEMBL218</td>\n",
       "      <td>1116</td>\n",
       "      <td>5007</td>\n",
       "      <td>3891</td>\n",
       "    </tr>\n",
       "    <tr>\n",
       "      <th>6</th>\n",
       "      <td>Carbonic</td>\n",
       "      <td>CHEMBL205</td>\n",
       "      <td>603</td>\n",
       "      <td>7297</td>\n",
       "      <td>6694</td>\n",
       "    </tr>\n",
       "    <tr>\n",
       "      <th>7</th>\n",
       "      <td>Caspase</td>\n",
       "      <td>CHEMBL2334</td>\n",
       "      <td>1606</td>\n",
       "      <td>1913</td>\n",
       "      <td>307</td>\n",
       "    </tr>\n",
       "    <tr>\n",
       "      <th>8</th>\n",
       "      <td>Coagulation</td>\n",
       "      <td>CHEMBL204</td>\n",
       "      <td>1700</td>\n",
       "      <td>5162</td>\n",
       "      <td>3462</td>\n",
       "    </tr>\n",
       "    <tr>\n",
       "      <th>9</th>\n",
       "      <td>COX-1</td>\n",
       "      <td>CHEMBL221</td>\n",
       "      <td>1343</td>\n",
       "      <td>1551</td>\n",
       "      <td>208</td>\n",
       "    </tr>\n",
       "    <tr>\n",
       "      <th>10</th>\n",
       "      <td>COX-2</td>\n",
       "      <td>CHEMBL230</td>\n",
       "      <td>2855</td>\n",
       "      <td>3627</td>\n",
       "      <td>772</td>\n",
       "    </tr>\n",
       "    <tr>\n",
       "      <th>11</th>\n",
       "      <td>Dihydrofolate</td>\n",
       "      <td>CHEMBL202</td>\n",
       "      <td>584</td>\n",
       "      <td>1062</td>\n",
       "      <td>478</td>\n",
       "    </tr>\n",
       "    <tr>\n",
       "      <th>12</th>\n",
       "      <td>Dopamine</td>\n",
       "      <td>CHEMBL217</td>\n",
       "      <td>479</td>\n",
       "      <td>7635</td>\n",
       "      <td>7156</td>\n",
       "    </tr>\n",
       "    <tr>\n",
       "      <th>13</th>\n",
       "      <td>Ephrin</td>\n",
       "      <td>CHEMBL222</td>\n",
       "      <td>1740</td>\n",
       "      <td>3129</td>\n",
       "      <td>1389</td>\n",
       "    </tr>\n",
       "    <tr>\n",
       "      <th>14</th>\n",
       "      <td>erbB1</td>\n",
       "      <td>CHEMBL203</td>\n",
       "      <td>4868</td>\n",
       "      <td>7235</td>\n",
       "      <td>2367</td>\n",
       "    </tr>\n",
       "    <tr>\n",
       "      <th>15</th>\n",
       "      <td>Estrogen</td>\n",
       "      <td>CHEMBL206</td>\n",
       "      <td>1705</td>\n",
       "      <td>3309</td>\n",
       "      <td>1604</td>\n",
       "    </tr>\n",
       "    <tr>\n",
       "      <th>16</th>\n",
       "      <td>Glucocorticocoid</td>\n",
       "      <td>CHEMBL2034</td>\n",
       "      <td>1447</td>\n",
       "      <td>2441</td>\n",
       "      <td>994</td>\n",
       "    </tr>\n",
       "    <tr>\n",
       "      <th>17</th>\n",
       "      <td>Glycogen</td>\n",
       "      <td>CHEMBL262</td>\n",
       "      <td>1757</td>\n",
       "      <td>3458</td>\n",
       "      <td>1701</td>\n",
       "    </tr>\n",
       "    <tr>\n",
       "      <th>18</th>\n",
       "      <td>HERG</td>\n",
       "      <td>CHEMBL240</td>\n",
       "      <td>5207</td>\n",
       "      <td>8683</td>\n",
       "      <td>3476</td>\n",
       "    </tr>\n",
       "    <tr>\n",
       "      <th>19</th>\n",
       "      <td>JAK2</td>\n",
       "      <td>CHEMBL2971</td>\n",
       "      <td>2655</td>\n",
       "      <td>6262</td>\n",
       "      <td>3607</td>\n",
       "    </tr>\n",
       "    <tr>\n",
       "      <th>20</th>\n",
       "      <td>LCK</td>\n",
       "      <td>CHEMBL258</td>\n",
       "      <td>1352</td>\n",
       "      <td>2027</td>\n",
       "      <td>675</td>\n",
       "    </tr>\n",
       "    <tr>\n",
       "      <th>21</th>\n",
       "      <td>Monoamine</td>\n",
       "      <td>CHEMBL1951</td>\n",
       "      <td>1379</td>\n",
       "      <td>2482</td>\n",
       "      <td>1103</td>\n",
       "    </tr>\n",
       "    <tr>\n",
       "      <th>22</th>\n",
       "      <td>opioid</td>\n",
       "      <td>CHEMBL233</td>\n",
       "      <td>840</td>\n",
       "      <td>5224</td>\n",
       "      <td>4384</td>\n",
       "    </tr>\n",
       "    <tr>\n",
       "      <th>23</th>\n",
       "      <td>Vanniloid</td>\n",
       "      <td>CHEMBL4794</td>\n",
       "      <td>1923</td>\n",
       "      <td>3385</td>\n",
       "      <td>1462</td>\n",
       "    </tr>\n",
       "  </tbody>\n",
       "</table>\n",
       "</div>"
      ],
      "text/plain": [
       "            abbrevation target_chembl_id  old_count  new_count  delta\n",
       "0                   A2a       CHEMBL1867        203        917    714\n",
       "1                  ABL1       CHEMBL1862        773       2425   1652\n",
       "2   Acetylcholinestease        CHEMBL220       3159       5067   1908\n",
       "3              Aurora-A       CHEMBL4722       2125       3202   1077\n",
       "4                 B-raf       CHEMBL5145       1730       4039   2309\n",
       "5           Cannabinoid        CHEMBL218       1116       5007   3891\n",
       "6              Carbonic        CHEMBL205        603       7297   6694\n",
       "7               Caspase       CHEMBL2334       1606       1913    307\n",
       "8           Coagulation        CHEMBL204       1700       5162   3462\n",
       "9                 COX-1        CHEMBL221       1343       1551    208\n",
       "10                COX-2        CHEMBL230       2855       3627    772\n",
       "11        Dihydrofolate        CHEMBL202        584       1062    478\n",
       "12             Dopamine        CHEMBL217        479       7635   7156\n",
       "13               Ephrin        CHEMBL222       1740       3129   1389\n",
       "14                erbB1        CHEMBL203       4868       7235   2367\n",
       "15             Estrogen        CHEMBL206       1705       3309   1604\n",
       "16     Glucocorticocoid       CHEMBL2034       1447       2441    994\n",
       "17             Glycogen        CHEMBL262       1757       3458   1701\n",
       "18                 HERG        CHEMBL240       5207       8683   3476\n",
       "19                 JAK2       CHEMBL2971       2655       6262   3607\n",
       "20                  LCK        CHEMBL258       1352       2027    675\n",
       "21            Monoamine       CHEMBL1951       1379       2482   1103\n",
       "22               opioid        CHEMBL233        840       5224   4384\n",
       "23            Vanniloid       CHEMBL4794       1923       3385   1462"
      ]
     },
     "execution_count": 4,
     "metadata": {},
     "output_type": "execute_result"
    }
   ],
   "source": [
    "version = chembl_downloader.latest()\n",
    "new_dfs = {}\n",
    "rows = []\n",
    "for abbr, target_chembl_id, old in tqdm(mappings):\n",
    "    df = new_dfs[target_chembl_id] = get_target_smi_df(\n",
    "        target_chembl_id,\n",
    "        version=version,\n",
    "        aggregate=\"mean\",\n",
    "    )\n",
    "    new = len(df.index)\n",
    "    rows.append((abbr, target_chembl_id, old, new, new - old))\n",
    "\n",
    "summary_df = pd.DataFrame(\n",
    "    rows,\n",
    "    columns=[\"abbrevation\", \"target_chembl_id\", \"old_count\", \"new_count\", \"delta\"],\n",
    ")\n",
    "summary_df"
   ]
  }
 ],
 "metadata": {
  "kernelspec": {
   "display_name": "Python 3 (ipykernel)",
   "language": "python",
   "name": "python3"
  },
  "language_info": {
   "codemirror_mode": {
    "name": "ipython",
    "version": 3
   },
   "file_extension": ".py",
   "mimetype": "text/x-python",
   "name": "python",
   "nbconvert_exporter": "python",
   "pygments_lexer": "ipython3",
   "version": "3.10.8"
  }
 },
 "nbformat": 4,
 "nbformat_minor": 5
}
